{
 "cells": [
  {
   "cell_type": "markdown",
   "id": "e372328f-8571-4387-92f7-ccbe388a696c",
   "metadata": {},
   "source": [
    "# Notebook description"
   ]
  },
  {
   "cell_type": "markdown",
   "id": "c8d604ae-c462-42dc-861c-de26268df522",
   "metadata": {},
   "source": [
    "The dataset represents retail transactional data. It contains information about customers, their purchases, products, and transaction details. The data includes various attributes such as customer ID, name, email, phone, address, city, state, zipcode, country, age, gender, income, customer segment, last purchase date, total purchases, amount spent, product category, product brand, product type, feedback, shipping method, payment method, and order status.\n"
   ]
  },
  {
   "cell_type": "markdown",
   "id": "280ea9df-fcb7-45d2-ab63-d460c29e6220",
   "metadata": {},
   "source": [
    "# Import Libraries"
   ]
  },
  {
   "cell_type": "code",
   "execution_count": 1,
   "id": "d0a5532c-c194-482d-997e-1641dd8f5b66",
   "metadata": {},
   "outputs": [],
   "source": [
    "import pandas as pd\n",
    "import numpy as np\n",
    "import seaborn as sns\n",
    "import matplotlib.pyplot as plt\n",
    "import plotly.graph_objects as go\n",
    "import plotly.express as px\n",
    "from ydata_profiling import ProfileReport \n",
    "import sweetviz as sv\n",
    "from sklearn.preprocessing import OneHotEncoder\n",
    "\n",
    "pd.set_option('display.max_rows', None) \n",
    "pd.set_option('display.max_columns', None)"
   ]
  },
  {
   "cell_type": "markdown",
   "id": "aa3a83d1-174b-4c8d-9a5a-7dd434e21a9b",
   "metadata": {},
   "source": [
    "# Loading Data"
   ]
  },
  {
   "cell_type": "code",
   "execution_count": 2,
   "id": "581d41cd-8490-4d1b-8773-973cd8abd224",
   "metadata": {},
   "outputs": [],
   "source": [
    "retail_df = pd.read_csv('new_retail_data.csv')"
   ]
  },
  {
   "cell_type": "code",
   "execution_count": 3,
   "id": "beee5b72-13df-43c4-8164-b9507e5afb7f",
   "metadata": {},
   "outputs": [],
   "source": [
    "df = retail_df.copy()"
   ]
  },
  {
   "cell_type": "code",
   "execution_count": 4,
   "id": "58cee778-5596-4fac-8859-352d678f2bb5",
   "metadata": {},
   "outputs": [
    {
     "data": {
      "text/plain": [
       "(302010, 30)"
      ]
     },
     "execution_count": 4,
     "metadata": {},
     "output_type": "execute_result"
    }
   ],
   "source": [
    "df.shape"
   ]
  },
  {
   "cell_type": "code",
   "execution_count": 5,
   "id": "5155023c-001f-4721-8e28-de6d8ebca564",
   "metadata": {},
   "outputs": [
    {
     "name": "stdout",
     "output_type": "stream",
     "text": [
      "<class 'pandas.core.frame.DataFrame'>\n",
      "RangeIndex: 302010 entries, 0 to 302009\n",
      "Data columns (total 30 columns):\n",
      " #   Column            Non-Null Count   Dtype  \n",
      "---  ------            --------------   -----  \n",
      " 0   Transaction_ID    301677 non-null  float64\n",
      " 1   Customer_ID       301702 non-null  float64\n",
      " 2   Name              301628 non-null  object \n",
      " 3   Email             301663 non-null  object \n",
      " 4   Phone             301648 non-null  float64\n",
      " 5   Address           301695 non-null  object \n",
      " 6   City              301762 non-null  object \n",
      " 7   State             301729 non-null  object \n",
      " 8   Zipcode           301670 non-null  float64\n",
      " 9   Country           301739 non-null  object \n",
      " 10  Age               301837 non-null  float64\n",
      " 11  Gender            301693 non-null  object \n",
      " 12  Income            301720 non-null  object \n",
      " 13  Customer_Segment  301795 non-null  object \n",
      " 14  Date              301651 non-null  object \n",
      " 15  Year              301660 non-null  float64\n",
      " 16  Month             301737 non-null  object \n",
      " 17  Time              301660 non-null  object \n",
      " 18  Total_Purchases   301649 non-null  float64\n",
      " 19  Amount            301653 non-null  float64\n",
      " 20  Total_Amount      301660 non-null  float64\n",
      " 21  Product_Category  301727 non-null  object \n",
      " 22  Product_Brand     301729 non-null  object \n",
      " 23  Product_Type      302010 non-null  object \n",
      " 24  Feedback          301826 non-null  object \n",
      " 25  Shipping_Method   301673 non-null  object \n",
      " 26  Payment_Method    301713 non-null  object \n",
      " 27  Order_Status      301775 non-null  object \n",
      " 28  Ratings           301826 non-null  float64\n",
      " 29  products          302010 non-null  object \n",
      "dtypes: float64(10), object(20)\n",
      "memory usage: 69.1+ MB\n"
     ]
    }
   ],
   "source": [
    "df.info()"
   ]
  },
  {
   "cell_type": "code",
   "execution_count": 6,
   "id": "8016c1b4-de0d-428e-8a08-c06b00f1e55e",
   "metadata": {},
   "outputs": [
    {
     "data": {
      "text/plain": [
       "Transaction_ID      333\n",
       "Customer_ID         308\n",
       "Name                382\n",
       "Email               347\n",
       "Phone               362\n",
       "Address             315\n",
       "City                248\n",
       "State               281\n",
       "Zipcode             340\n",
       "Country             271\n",
       "Age                 173\n",
       "Gender              317\n",
       "Income              290\n",
       "Customer_Segment    215\n",
       "Date                359\n",
       "Year                350\n",
       "Month               273\n",
       "Time                350\n",
       "Total_Purchases     361\n",
       "Amount              357\n",
       "Total_Amount        350\n",
       "Product_Category    283\n",
       "Product_Brand       281\n",
       "Product_Type          0\n",
       "Feedback            184\n",
       "Shipping_Method     337\n",
       "Payment_Method      297\n",
       "Order_Status        235\n",
       "Ratings             184\n",
       "products              0\n",
       "dtype: int64"
      ]
     },
     "execution_count": 6,
     "metadata": {},
     "output_type": "execute_result"
    }
   ],
   "source": [
    "df.isnull().sum()"
   ]
  },
  {
   "cell_type": "markdown",
   "id": "77817cfe-8f55-4f05-89df-5c7288443b7f",
   "metadata": {},
   "source": [
    "# Data Cleaning"
   ]
  },
  {
   "cell_type": "code",
   "execution_count": 7,
   "id": "47c41bd7-f9b7-459c-989c-fdc86c76d065",
   "metadata": {},
   "outputs": [],
   "source": [
    "# #rename the columns\n",
    "df.columns = df.columns.str.lower()"
   ]
  },
  {
   "cell_type": "code",
   "execution_count": 8,
   "id": "9e98394f-31e8-46d9-8501-38426b2afbbb",
   "metadata": {},
   "outputs": [
    {
     "data": {
      "text/html": [
       "<div>\n",
       "<style scoped>\n",
       "    .dataframe tbody tr th:only-of-type {\n",
       "        vertical-align: middle;\n",
       "    }\n",
       "\n",
       "    .dataframe tbody tr th {\n",
       "        vertical-align: top;\n",
       "    }\n",
       "\n",
       "    .dataframe thead th {\n",
       "        text-align: right;\n",
       "    }\n",
       "</style>\n",
       "<table border=\"1\" class=\"dataframe\">\n",
       "  <thead>\n",
       "    <tr style=\"text-align: right;\">\n",
       "      <th></th>\n",
       "      <th>transaction_id</th>\n",
       "      <th>customer_id</th>\n",
       "      <th>phone</th>\n",
       "      <th>zipcode</th>\n",
       "      <th>age</th>\n",
       "      <th>year</th>\n",
       "      <th>total_purchases</th>\n",
       "      <th>amount</th>\n",
       "      <th>total_amount</th>\n",
       "      <th>ratings</th>\n",
       "    </tr>\n",
       "  </thead>\n",
       "  <tbody>\n",
       "    <tr>\n",
       "      <th>count</th>\n",
       "      <td>3.016770e+05</td>\n",
       "      <td>301702.000000</td>\n",
       "      <td>3.016480e+05</td>\n",
       "      <td>301670.000000</td>\n",
       "      <td>301837.000000</td>\n",
       "      <td>301660.000000</td>\n",
       "      <td>301649.000000</td>\n",
       "      <td>301653.000000</td>\n",
       "      <td>301660.000000</td>\n",
       "      <td>301826.000000</td>\n",
       "    </tr>\n",
       "    <tr>\n",
       "      <th>mean</th>\n",
       "      <td>5.495823e+06</td>\n",
       "      <td>55006.553934</td>\n",
       "      <td>5.501464e+09</td>\n",
       "      <td>50298.951019</td>\n",
       "      <td>35.481326</td>\n",
       "      <td>2023.165113</td>\n",
       "      <td>5.359729</td>\n",
       "      <td>255.163659</td>\n",
       "      <td>1367.651156</td>\n",
       "      <td>3.162670</td>\n",
       "    </tr>\n",
       "    <tr>\n",
       "      <th>std</th>\n",
       "      <td>2.595565e+06</td>\n",
       "      <td>26005.675200</td>\n",
       "      <td>2.596017e+09</td>\n",
       "      <td>28972.807134</td>\n",
       "      <td>15.021933</td>\n",
       "      <td>0.371283</td>\n",
       "      <td>2.868575</td>\n",
       "      <td>141.389640</td>\n",
       "      <td>1128.998515</td>\n",
       "      <td>1.320827</td>\n",
       "    </tr>\n",
       "    <tr>\n",
       "      <th>min</th>\n",
       "      <td>1.000007e+06</td>\n",
       "      <td>10000.000000</td>\n",
       "      <td>1.000049e+09</td>\n",
       "      <td>501.000000</td>\n",
       "      <td>18.000000</td>\n",
       "      <td>2023.000000</td>\n",
       "      <td>1.000000</td>\n",
       "      <td>10.000219</td>\n",
       "      <td>10.003750</td>\n",
       "      <td>1.000000</td>\n",
       "    </tr>\n",
       "    <tr>\n",
       "      <th>25%</th>\n",
       "      <td>3.247930e+06</td>\n",
       "      <td>32469.250000</td>\n",
       "      <td>3.255061e+09</td>\n",
       "      <td>25425.000000</td>\n",
       "      <td>22.000000</td>\n",
       "      <td>2023.000000</td>\n",
       "      <td>3.000000</td>\n",
       "      <td>132.890764</td>\n",
       "      <td>438.724278</td>\n",
       "      <td>2.000000</td>\n",
       "    </tr>\n",
       "    <tr>\n",
       "      <th>50%</th>\n",
       "      <td>5.499657e+06</td>\n",
       "      <td>55012.000000</td>\n",
       "      <td>5.505812e+09</td>\n",
       "      <td>50602.500000</td>\n",
       "      <td>32.000000</td>\n",
       "      <td>2023.000000</td>\n",
       "      <td>5.000000</td>\n",
       "      <td>255.470969</td>\n",
       "      <td>1041.117547</td>\n",
       "      <td>3.000000</td>\n",
       "    </tr>\n",
       "    <tr>\n",
       "      <th>75%</th>\n",
       "      <td>7.739509e+06</td>\n",
       "      <td>77511.000000</td>\n",
       "      <td>7.749860e+09</td>\n",
       "      <td>75252.000000</td>\n",
       "      <td>46.000000</td>\n",
       "      <td>2023.000000</td>\n",
       "      <td>8.000000</td>\n",
       "      <td>377.672606</td>\n",
       "      <td>2029.999853</td>\n",
       "      <td>4.000000</td>\n",
       "    </tr>\n",
       "    <tr>\n",
       "      <th>max</th>\n",
       "      <td>9.999995e+06</td>\n",
       "      <td>99999.000000</td>\n",
       "      <td>9.999996e+09</td>\n",
       "      <td>99949.000000</td>\n",
       "      <td>70.000000</td>\n",
       "      <td>2024.000000</td>\n",
       "      <td>10.000000</td>\n",
       "      <td>499.997911</td>\n",
       "      <td>4999.625796</td>\n",
       "      <td>5.000000</td>\n",
       "    </tr>\n",
       "  </tbody>\n",
       "</table>\n",
       "</div>"
      ],
      "text/plain": [
       "       transaction_id    customer_id         phone        zipcode  \\\n",
       "count    3.016770e+05  301702.000000  3.016480e+05  301670.000000   \n",
       "mean     5.495823e+06   55006.553934  5.501464e+09   50298.951019   \n",
       "std      2.595565e+06   26005.675200  2.596017e+09   28972.807134   \n",
       "min      1.000007e+06   10000.000000  1.000049e+09     501.000000   \n",
       "25%      3.247930e+06   32469.250000  3.255061e+09   25425.000000   \n",
       "50%      5.499657e+06   55012.000000  5.505812e+09   50602.500000   \n",
       "75%      7.739509e+06   77511.000000  7.749860e+09   75252.000000   \n",
       "max      9.999995e+06   99999.000000  9.999996e+09   99949.000000   \n",
       "\n",
       "                 age           year  total_purchases         amount  \\\n",
       "count  301837.000000  301660.000000    301649.000000  301653.000000   \n",
       "mean       35.481326    2023.165113         5.359729     255.163659   \n",
       "std        15.021933       0.371283         2.868575     141.389640   \n",
       "min        18.000000    2023.000000         1.000000      10.000219   \n",
       "25%        22.000000    2023.000000         3.000000     132.890764   \n",
       "50%        32.000000    2023.000000         5.000000     255.470969   \n",
       "75%        46.000000    2023.000000         8.000000     377.672606   \n",
       "max        70.000000    2024.000000        10.000000     499.997911   \n",
       "\n",
       "        total_amount        ratings  \n",
       "count  301660.000000  301826.000000  \n",
       "mean     1367.651156       3.162670  \n",
       "std      1128.998515       1.320827  \n",
       "min        10.003750       1.000000  \n",
       "25%       438.724278       2.000000  \n",
       "50%      1041.117547       3.000000  \n",
       "75%      2029.999853       4.000000  \n",
       "max      4999.625796       5.000000  "
      ]
     },
     "execution_count": 8,
     "metadata": {},
     "output_type": "execute_result"
    }
   ],
   "source": [
    "df.describe()"
   ]
  },
  {
   "cell_type": "code",
   "execution_count": 9,
   "id": "cfe47a16-a715-4390-8a4b-19873ab2f762",
   "metadata": {},
   "outputs": [
    {
     "data": {
      "text/html": [
       "<div>\n",
       "<style scoped>\n",
       "    .dataframe tbody tr th:only-of-type {\n",
       "        vertical-align: middle;\n",
       "    }\n",
       "\n",
       "    .dataframe tbody tr th {\n",
       "        vertical-align: top;\n",
       "    }\n",
       "\n",
       "    .dataframe thead th {\n",
       "        text-align: right;\n",
       "    }\n",
       "</style>\n",
       "<table border=\"1\" class=\"dataframe\">\n",
       "  <thead>\n",
       "    <tr style=\"text-align: right;\">\n",
       "      <th></th>\n",
       "      <th>transaction_id</th>\n",
       "      <th>customer_id</th>\n",
       "      <th>name</th>\n",
       "      <th>email</th>\n",
       "      <th>phone</th>\n",
       "      <th>address</th>\n",
       "      <th>city</th>\n",
       "      <th>state</th>\n",
       "      <th>zipcode</th>\n",
       "      <th>country</th>\n",
       "      <th>age</th>\n",
       "      <th>gender</th>\n",
       "      <th>income</th>\n",
       "      <th>customer_segment</th>\n",
       "      <th>date</th>\n",
       "      <th>year</th>\n",
       "      <th>month</th>\n",
       "      <th>time</th>\n",
       "      <th>total_purchases</th>\n",
       "      <th>amount</th>\n",
       "      <th>total_amount</th>\n",
       "      <th>product_category</th>\n",
       "      <th>product_brand</th>\n",
       "      <th>product_type</th>\n",
       "      <th>feedback</th>\n",
       "      <th>shipping_method</th>\n",
       "      <th>payment_method</th>\n",
       "      <th>order_status</th>\n",
       "      <th>ratings</th>\n",
       "      <th>products</th>\n",
       "    </tr>\n",
       "  </thead>\n",
       "  <tbody>\n",
       "    <tr>\n",
       "      <th>0</th>\n",
       "      <td>8691788.0</td>\n",
       "      <td>37249.0</td>\n",
       "      <td>Michelle Harrington</td>\n",
       "      <td>Ebony39@gmail.com</td>\n",
       "      <td>1.414787e+09</td>\n",
       "      <td>3959 Amanda Burgs</td>\n",
       "      <td>Dortmund</td>\n",
       "      <td>Berlin</td>\n",
       "      <td>77985.0</td>\n",
       "      <td>Germany</td>\n",
       "      <td>21.0</td>\n",
       "      <td>Male</td>\n",
       "      <td>Low</td>\n",
       "      <td>Regular</td>\n",
       "      <td>9/18/2023</td>\n",
       "      <td>2023.0</td>\n",
       "      <td>September</td>\n",
       "      <td>22:03:55</td>\n",
       "      <td>3.0</td>\n",
       "      <td>108.028757</td>\n",
       "      <td>324.086270</td>\n",
       "      <td>Clothing</td>\n",
       "      <td>Nike</td>\n",
       "      <td>Shorts</td>\n",
       "      <td>Excellent</td>\n",
       "      <td>Same-Day</td>\n",
       "      <td>Debit Card</td>\n",
       "      <td>Shipped</td>\n",
       "      <td>5.0</td>\n",
       "      <td>Cycling shorts</td>\n",
       "    </tr>\n",
       "    <tr>\n",
       "      <th>1</th>\n",
       "      <td>2174773.0</td>\n",
       "      <td>69749.0</td>\n",
       "      <td>Kelsey Hill</td>\n",
       "      <td>Mark36@gmail.com</td>\n",
       "      <td>6.852900e+09</td>\n",
       "      <td>82072 Dawn Centers</td>\n",
       "      <td>Nottingham</td>\n",
       "      <td>England</td>\n",
       "      <td>99071.0</td>\n",
       "      <td>UK</td>\n",
       "      <td>19.0</td>\n",
       "      <td>Female</td>\n",
       "      <td>Low</td>\n",
       "      <td>Premium</td>\n",
       "      <td>12/31/2023</td>\n",
       "      <td>2023.0</td>\n",
       "      <td>December</td>\n",
       "      <td>8:42:04</td>\n",
       "      <td>2.0</td>\n",
       "      <td>403.353907</td>\n",
       "      <td>806.707815</td>\n",
       "      <td>Electronics</td>\n",
       "      <td>Samsung</td>\n",
       "      <td>Tablet</td>\n",
       "      <td>Excellent</td>\n",
       "      <td>Standard</td>\n",
       "      <td>Credit Card</td>\n",
       "      <td>Processing</td>\n",
       "      <td>4.0</td>\n",
       "      <td>Lenovo Tab</td>\n",
       "    </tr>\n",
       "    <tr>\n",
       "      <th>2</th>\n",
       "      <td>6679610.0</td>\n",
       "      <td>30192.0</td>\n",
       "      <td>Scott Jensen</td>\n",
       "      <td>Shane85@gmail.com</td>\n",
       "      <td>8.362160e+09</td>\n",
       "      <td>4133 Young Canyon</td>\n",
       "      <td>Geelong</td>\n",
       "      <td>New South Wales</td>\n",
       "      <td>75929.0</td>\n",
       "      <td>Australia</td>\n",
       "      <td>48.0</td>\n",
       "      <td>Male</td>\n",
       "      <td>Low</td>\n",
       "      <td>Regular</td>\n",
       "      <td>4/26/2023</td>\n",
       "      <td>2023.0</td>\n",
       "      <td>April</td>\n",
       "      <td>4:06:29</td>\n",
       "      <td>3.0</td>\n",
       "      <td>354.477600</td>\n",
       "      <td>1063.432799</td>\n",
       "      <td>Books</td>\n",
       "      <td>Penguin Books</td>\n",
       "      <td>Children's</td>\n",
       "      <td>Average</td>\n",
       "      <td>Same-Day</td>\n",
       "      <td>Credit Card</td>\n",
       "      <td>Processing</td>\n",
       "      <td>2.0</td>\n",
       "      <td>Sports equipment</td>\n",
       "    </tr>\n",
       "    <tr>\n",
       "      <th>3</th>\n",
       "      <td>7232460.0</td>\n",
       "      <td>62101.0</td>\n",
       "      <td>Joseph Miller</td>\n",
       "      <td>Mary34@gmail.com</td>\n",
       "      <td>2.776752e+09</td>\n",
       "      <td>8148 Thomas Creek Suite 100</td>\n",
       "      <td>Edmonton</td>\n",
       "      <td>Ontario</td>\n",
       "      <td>88420.0</td>\n",
       "      <td>Canada</td>\n",
       "      <td>56.0</td>\n",
       "      <td>Male</td>\n",
       "      <td>High</td>\n",
       "      <td>Premium</td>\n",
       "      <td>5/8/2023</td>\n",
       "      <td>2023.0</td>\n",
       "      <td>May</td>\n",
       "      <td>14:55:17</td>\n",
       "      <td>7.0</td>\n",
       "      <td>352.407717</td>\n",
       "      <td>2466.854021</td>\n",
       "      <td>Home Decor</td>\n",
       "      <td>Home Depot</td>\n",
       "      <td>Tools</td>\n",
       "      <td>Excellent</td>\n",
       "      <td>Standard</td>\n",
       "      <td>PayPal</td>\n",
       "      <td>Processing</td>\n",
       "      <td>4.0</td>\n",
       "      <td>Utility knife</td>\n",
       "    </tr>\n",
       "    <tr>\n",
       "      <th>4</th>\n",
       "      <td>4983775.0</td>\n",
       "      <td>27901.0</td>\n",
       "      <td>Debra Coleman</td>\n",
       "      <td>Charles30@gmail.com</td>\n",
       "      <td>9.098268e+09</td>\n",
       "      <td>5813 Lori Ports Suite 269</td>\n",
       "      <td>Bristol</td>\n",
       "      <td>England</td>\n",
       "      <td>48704.0</td>\n",
       "      <td>UK</td>\n",
       "      <td>22.0</td>\n",
       "      <td>Male</td>\n",
       "      <td>Low</td>\n",
       "      <td>Premium</td>\n",
       "      <td>1/10/2024</td>\n",
       "      <td>2024.0</td>\n",
       "      <td>January</td>\n",
       "      <td>16:54:07</td>\n",
       "      <td>2.0</td>\n",
       "      <td>124.276524</td>\n",
       "      <td>248.553049</td>\n",
       "      <td>Grocery</td>\n",
       "      <td>Nestle</td>\n",
       "      <td>Chocolate</td>\n",
       "      <td>Bad</td>\n",
       "      <td>Standard</td>\n",
       "      <td>Cash</td>\n",
       "      <td>Shipped</td>\n",
       "      <td>1.0</td>\n",
       "      <td>Chocolate cookies</td>\n",
       "    </tr>\n",
       "  </tbody>\n",
       "</table>\n",
       "</div>"
      ],
      "text/plain": [
       "   transaction_id  customer_id                 name                email  \\\n",
       "0       8691788.0      37249.0  Michelle Harrington    Ebony39@gmail.com   \n",
       "1       2174773.0      69749.0          Kelsey Hill     Mark36@gmail.com   \n",
       "2       6679610.0      30192.0         Scott Jensen    Shane85@gmail.com   \n",
       "3       7232460.0      62101.0        Joseph Miller     Mary34@gmail.com   \n",
       "4       4983775.0      27901.0        Debra Coleman  Charles30@gmail.com   \n",
       "\n",
       "          phone                      address        city            state  \\\n",
       "0  1.414787e+09            3959 Amanda Burgs    Dortmund           Berlin   \n",
       "1  6.852900e+09           82072 Dawn Centers  Nottingham          England   \n",
       "2  8.362160e+09            4133 Young Canyon     Geelong  New South Wales   \n",
       "3  2.776752e+09  8148 Thomas Creek Suite 100    Edmonton          Ontario   \n",
       "4  9.098268e+09    5813 Lori Ports Suite 269     Bristol          England   \n",
       "\n",
       "   zipcode    country   age  gender income customer_segment        date  \\\n",
       "0  77985.0    Germany  21.0    Male    Low          Regular   9/18/2023   \n",
       "1  99071.0         UK  19.0  Female    Low          Premium  12/31/2023   \n",
       "2  75929.0  Australia  48.0    Male    Low          Regular   4/26/2023   \n",
       "3  88420.0     Canada  56.0    Male   High          Premium    5/8/2023   \n",
       "4  48704.0         UK  22.0    Male    Low          Premium   1/10/2024   \n",
       "\n",
       "     year      month      time  total_purchases      amount  total_amount  \\\n",
       "0  2023.0  September  22:03:55              3.0  108.028757    324.086270   \n",
       "1  2023.0   December   8:42:04              2.0  403.353907    806.707815   \n",
       "2  2023.0      April   4:06:29              3.0  354.477600   1063.432799   \n",
       "3  2023.0        May  14:55:17              7.0  352.407717   2466.854021   \n",
       "4  2024.0    January  16:54:07              2.0  124.276524    248.553049   \n",
       "\n",
       "  product_category  product_brand product_type   feedback shipping_method  \\\n",
       "0         Clothing           Nike       Shorts  Excellent        Same-Day   \n",
       "1      Electronics        Samsung       Tablet  Excellent        Standard   \n",
       "2            Books  Penguin Books   Children's    Average        Same-Day   \n",
       "3       Home Decor     Home Depot        Tools  Excellent        Standard   \n",
       "4          Grocery         Nestle    Chocolate        Bad        Standard   \n",
       "\n",
       "  payment_method order_status  ratings           products  \n",
       "0     Debit Card      Shipped      5.0     Cycling shorts  \n",
       "1    Credit Card   Processing      4.0         Lenovo Tab  \n",
       "2    Credit Card   Processing      2.0   Sports equipment  \n",
       "3         PayPal   Processing      4.0      Utility knife  \n",
       "4           Cash      Shipped      1.0  Chocolate cookies  "
      ]
     },
     "execution_count": 9,
     "metadata": {},
     "output_type": "execute_result"
    }
   ],
   "source": [
    "df.head()"
   ]
  },
  {
   "cell_type": "markdown",
   "id": "17d81cf5-7a05-4f7b-a836-2dd2240b05ae",
   "metadata": {},
   "source": [
    "## Dealing with null values in the transaction_id column"
   ]
  },
  {
   "cell_type": "code",
   "execution_count": 10,
   "id": "d9bbd678-3f2c-4abc-8d00-9d923426a212",
   "metadata": {},
   "outputs": [
    {
     "data": {
      "text/html": [
       "<div>\n",
       "<style scoped>\n",
       "    .dataframe tbody tr th:only-of-type {\n",
       "        vertical-align: middle;\n",
       "    }\n",
       "\n",
       "    .dataframe tbody tr th {\n",
       "        vertical-align: top;\n",
       "    }\n",
       "\n",
       "    .dataframe thead th {\n",
       "        text-align: right;\n",
       "    }\n",
       "</style>\n",
       "<table border=\"1\" class=\"dataframe\">\n",
       "  <thead>\n",
       "    <tr style=\"text-align: right;\">\n",
       "      <th></th>\n",
       "      <th>transaction_id</th>\n",
       "      <th>customer_id</th>\n",
       "      <th>name</th>\n",
       "      <th>email</th>\n",
       "      <th>phone</th>\n",
       "      <th>address</th>\n",
       "      <th>city</th>\n",
       "      <th>state</th>\n",
       "      <th>zipcode</th>\n",
       "      <th>country</th>\n",
       "      <th>age</th>\n",
       "      <th>gender</th>\n",
       "      <th>income</th>\n",
       "      <th>customer_segment</th>\n",
       "      <th>date</th>\n",
       "      <th>year</th>\n",
       "      <th>month</th>\n",
       "      <th>time</th>\n",
       "      <th>total_purchases</th>\n",
       "      <th>amount</th>\n",
       "      <th>total_amount</th>\n",
       "      <th>product_category</th>\n",
       "      <th>product_brand</th>\n",
       "      <th>product_type</th>\n",
       "      <th>feedback</th>\n",
       "      <th>shipping_method</th>\n",
       "      <th>payment_method</th>\n",
       "      <th>order_status</th>\n",
       "      <th>ratings</th>\n",
       "      <th>products</th>\n",
       "    </tr>\n",
       "  </thead>\n",
       "  <tbody>\n",
       "    <tr>\n",
       "      <th>1609</th>\n",
       "      <td>NaN</td>\n",
       "      <td>21179.0</td>\n",
       "      <td>Brett Bailey</td>\n",
       "      <td>Maxwell26@gmail.com</td>\n",
       "      <td>2.208751e+09</td>\n",
       "      <td>9755 Wang River Apt. 016</td>\n",
       "      <td>Portsmouth</td>\n",
       "      <td>England</td>\n",
       "      <td>84040.0</td>\n",
       "      <td>UK</td>\n",
       "      <td>21.0</td>\n",
       "      <td>Female</td>\n",
       "      <td>High</td>\n",
       "      <td>Regular</td>\n",
       "      <td>8/17/2023</td>\n",
       "      <td>2023.0</td>\n",
       "      <td>August</td>\n",
       "      <td>14:22:08</td>\n",
       "      <td>7.0</td>\n",
       "      <td>409.712413</td>\n",
       "      <td>2867.986888</td>\n",
       "      <td>Electronics</td>\n",
       "      <td>Apple</td>\n",
       "      <td>Smartphone</td>\n",
       "      <td>Good</td>\n",
       "      <td>Standard</td>\n",
       "      <td>PayPal</td>\n",
       "      <td>Pending</td>\n",
       "      <td>4.0</td>\n",
       "      <td>Motorola Moto</td>\n",
       "    </tr>\n",
       "    <tr>\n",
       "      <th>2003</th>\n",
       "      <td>NaN</td>\n",
       "      <td>99112.0</td>\n",
       "      <td>Angela Jones</td>\n",
       "      <td>Scott14@gmail.com</td>\n",
       "      <td>3.860774e+09</td>\n",
       "      <td>5287 Harris Junctions Suite 995</td>\n",
       "      <td>Portsmouth</td>\n",
       "      <td>England</td>\n",
       "      <td>35356.0</td>\n",
       "      <td>UK</td>\n",
       "      <td>21.0</td>\n",
       "      <td>Male</td>\n",
       "      <td>Medium</td>\n",
       "      <td>Regular</td>\n",
       "      <td>2/7/2024</td>\n",
       "      <td>2024.0</td>\n",
       "      <td>February</td>\n",
       "      <td>16:50:24</td>\n",
       "      <td>5.0</td>\n",
       "      <td>311.496410</td>\n",
       "      <td>1557.482050</td>\n",
       "      <td>Books</td>\n",
       "      <td>HarperCollins</td>\n",
       "      <td>Thriller</td>\n",
       "      <td>Bad</td>\n",
       "      <td>Same-Day</td>\n",
       "      <td>Debit Card</td>\n",
       "      <td>Pending</td>\n",
       "      <td>1.0</td>\n",
       "      <td>Psychological thriller</td>\n",
       "    </tr>\n",
       "    <tr>\n",
       "      <th>2202</th>\n",
       "      <td>NaN</td>\n",
       "      <td>68894.0</td>\n",
       "      <td>Yvonne Huerta</td>\n",
       "      <td>Peter51@gmail.com</td>\n",
       "      <td>4.987322e+09</td>\n",
       "      <td>10237 Deborah Pass Suite 259</td>\n",
       "      <td>Portsmouth</td>\n",
       "      <td>England</td>\n",
       "      <td>13681.0</td>\n",
       "      <td>UK</td>\n",
       "      <td>21.0</td>\n",
       "      <td>Female</td>\n",
       "      <td>Medium</td>\n",
       "      <td>Regular</td>\n",
       "      <td>2/1/2024</td>\n",
       "      <td>2024.0</td>\n",
       "      <td>February</td>\n",
       "      <td>4:22:01</td>\n",
       "      <td>2.0</td>\n",
       "      <td>49.083412</td>\n",
       "      <td>98.166823</td>\n",
       "      <td>Home Decor</td>\n",
       "      <td>IKEA</td>\n",
       "      <td>Lighting</td>\n",
       "      <td>Bad</td>\n",
       "      <td>Standard</td>\n",
       "      <td>Cash</td>\n",
       "      <td>Shipped</td>\n",
       "      <td>1.0</td>\n",
       "      <td>Track lighting</td>\n",
       "    </tr>\n",
       "    <tr>\n",
       "      <th>3059</th>\n",
       "      <td>NaN</td>\n",
       "      <td>42747.0</td>\n",
       "      <td>Daniel Smith</td>\n",
       "      <td>Ashley88@gmail.com</td>\n",
       "      <td>8.582474e+09</td>\n",
       "      <td>64688 Walters Ford Suite 079</td>\n",
       "      <td>Portsmouth</td>\n",
       "      <td>England</td>\n",
       "      <td>50429.0</td>\n",
       "      <td>UK</td>\n",
       "      <td>21.0</td>\n",
       "      <td>Female</td>\n",
       "      <td>Medium</td>\n",
       "      <td>Regular</td>\n",
       "      <td>8/6/2023</td>\n",
       "      <td>2023.0</td>\n",
       "      <td>August</td>\n",
       "      <td>7:14:12</td>\n",
       "      <td>2.0</td>\n",
       "      <td>303.955838</td>\n",
       "      <td>607.911677</td>\n",
       "      <td>Grocery</td>\n",
       "      <td>Pepsi</td>\n",
       "      <td>Water</td>\n",
       "      <td>Bad</td>\n",
       "      <td>Express</td>\n",
       "      <td>Credit Card</td>\n",
       "      <td>Pending</td>\n",
       "      <td>1.0</td>\n",
       "      <td>Artesian water</td>\n",
       "    </tr>\n",
       "    <tr>\n",
       "      <th>3213</th>\n",
       "      <td>NaN</td>\n",
       "      <td>52484.0</td>\n",
       "      <td>Joseph Clarke</td>\n",
       "      <td>Rodney77@gmail.com</td>\n",
       "      <td>2.865820e+09</td>\n",
       "      <td>0035 Joan Drives</td>\n",
       "      <td>Portsmouth</td>\n",
       "      <td>England</td>\n",
       "      <td>88391.0</td>\n",
       "      <td>UK</td>\n",
       "      <td>21.0</td>\n",
       "      <td>Female</td>\n",
       "      <td>Medium</td>\n",
       "      <td>Regular</td>\n",
       "      <td>3/15/2023</td>\n",
       "      <td>2023.0</td>\n",
       "      <td>March</td>\n",
       "      <td>15:44:18</td>\n",
       "      <td>4.0</td>\n",
       "      <td>58.073853</td>\n",
       "      <td>232.295411</td>\n",
       "      <td>Grocery</td>\n",
       "      <td>Coca-Cola</td>\n",
       "      <td>Juice</td>\n",
       "      <td>Bad</td>\n",
       "      <td>Same-Day</td>\n",
       "      <td>Debit Card</td>\n",
       "      <td>Pending</td>\n",
       "      <td>1.0</td>\n",
       "      <td>Grapefruit juice</td>\n",
       "    </tr>\n",
       "  </tbody>\n",
       "</table>\n",
       "</div>"
      ],
      "text/plain": [
       "      transaction_id  customer_id           name                email  \\\n",
       "1609             NaN      21179.0   Brett Bailey  Maxwell26@gmail.com   \n",
       "2003             NaN      99112.0   Angela Jones    Scott14@gmail.com   \n",
       "2202             NaN      68894.0  Yvonne Huerta    Peter51@gmail.com   \n",
       "3059             NaN      42747.0   Daniel Smith   Ashley88@gmail.com   \n",
       "3213             NaN      52484.0  Joseph Clarke   Rodney77@gmail.com   \n",
       "\n",
       "             phone                          address        city    state  \\\n",
       "1609  2.208751e+09         9755 Wang River Apt. 016  Portsmouth  England   \n",
       "2003  3.860774e+09  5287 Harris Junctions Suite 995  Portsmouth  England   \n",
       "2202  4.987322e+09     10237 Deborah Pass Suite 259  Portsmouth  England   \n",
       "3059  8.582474e+09     64688 Walters Ford Suite 079  Portsmouth  England   \n",
       "3213  2.865820e+09                 0035 Joan Drives  Portsmouth  England   \n",
       "\n",
       "      zipcode country   age  gender  income customer_segment       date  \\\n",
       "1609  84040.0      UK  21.0  Female    High          Regular  8/17/2023   \n",
       "2003  35356.0      UK  21.0    Male  Medium          Regular   2/7/2024   \n",
       "2202  13681.0      UK  21.0  Female  Medium          Regular   2/1/2024   \n",
       "3059  50429.0      UK  21.0  Female  Medium          Regular   8/6/2023   \n",
       "3213  88391.0      UK  21.0  Female  Medium          Regular  3/15/2023   \n",
       "\n",
       "        year     month      time  total_purchases      amount  total_amount  \\\n",
       "1609  2023.0    August  14:22:08              7.0  409.712413   2867.986888   \n",
       "2003  2024.0  February  16:50:24              5.0  311.496410   1557.482050   \n",
       "2202  2024.0  February   4:22:01              2.0   49.083412     98.166823   \n",
       "3059  2023.0    August   7:14:12              2.0  303.955838    607.911677   \n",
       "3213  2023.0     March  15:44:18              4.0   58.073853    232.295411   \n",
       "\n",
       "     product_category  product_brand product_type feedback shipping_method  \\\n",
       "1609      Electronics          Apple   Smartphone     Good        Standard   \n",
       "2003            Books  HarperCollins     Thriller      Bad        Same-Day   \n",
       "2202       Home Decor           IKEA     Lighting      Bad        Standard   \n",
       "3059          Grocery          Pepsi        Water      Bad         Express   \n",
       "3213          Grocery      Coca-Cola        Juice      Bad        Same-Day   \n",
       "\n",
       "     payment_method order_status  ratings                products  \n",
       "1609         PayPal      Pending      4.0           Motorola Moto  \n",
       "2003     Debit Card      Pending      1.0  Psychological thriller  \n",
       "2202           Cash      Shipped      1.0          Track lighting  \n",
       "3059    Credit Card      Pending      1.0          Artesian water  \n",
       "3213     Debit Card      Pending      1.0        Grapefruit juice  "
      ]
     },
     "execution_count": 10,
     "metadata": {},
     "output_type": "execute_result"
    }
   ],
   "source": [
    "null_transaction_id = df[df['transaction_id'].isnull()]\n",
    "null_transaction_id.head()"
   ]
  },
  {
   "cell_type": "code",
   "execution_count": 11,
   "id": "c24d23e6-47b0-40c5-bec4-4c0e1e097722",
   "metadata": {},
   "outputs": [],
   "source": [
    "# Replace the null values in the transaction_id with random unique IDs\n",
    "# Create a random generator object\n",
    "rng = np.random.default_rng(seed=42)  # Use a seed for reproducibility\n",
    "\n",
    "# Identify the number of null values\n",
    "num_nulls = df['transaction_id'].isnull().sum()\n",
    "\n",
    "# Generate a set of unique 7-digit random integers\n",
    "existing_ids = set(df['transaction_id'].dropna().astype(int))\n",
    "new_ids = set()\n",
    "while len(new_ids) < num_nulls:\n",
    "    new_id = rng.integers(1000000, 9999999)  # Generate 7-digit IDs as integers\n",
    "    if new_id not in existing_ids and new_id not in new_ids:  # Ensure uniqueness\n",
    "        new_ids.add(new_id)\n",
    "\n",
    "# Fill the null values with the new unique IDs\n",
    "df.loc[df['transaction_id'].isnull(), 'transaction_id'] = list(new_ids)"
   ]
  },
  {
   "cell_type": "code",
   "execution_count": 12,
   "id": "38583527-75de-481e-aa1c-7307965b9c18",
   "metadata": {},
   "outputs": [
    {
     "data": {
      "text/plain": [
       "0"
      ]
     },
     "execution_count": 12,
     "metadata": {},
     "output_type": "execute_result"
    }
   ],
   "source": [
    "df['transaction_id'].isnull().sum()"
   ]
  },
  {
   "cell_type": "code",
   "execution_count": 13,
   "id": "bd44052e-a76e-4944-9630-696ce3998ef3",
   "metadata": {},
   "outputs": [],
   "source": [
    "# Convert the column to integer type \n",
    "df['transaction_id'] = df['transaction_id'].astype('Int64')  "
   ]
  },
  {
   "cell_type": "markdown",
   "id": "c34a67ec-87cf-4e29-b42f-4132ae27e779",
   "metadata": {},
   "source": [
    "## Dealing with null values in the customer_id column"
   ]
  },
  {
   "cell_type": "code",
   "execution_count": 14,
   "id": "4e3290cf-5778-4152-a3fe-8f536118eb9e",
   "metadata": {},
   "outputs": [
    {
     "data": {
      "text/html": [
       "<div>\n",
       "<style scoped>\n",
       "    .dataframe tbody tr th:only-of-type {\n",
       "        vertical-align: middle;\n",
       "    }\n",
       "\n",
       "    .dataframe tbody tr th {\n",
       "        vertical-align: top;\n",
       "    }\n",
       "\n",
       "    .dataframe thead th {\n",
       "        text-align: right;\n",
       "    }\n",
       "</style>\n",
       "<table border=\"1\" class=\"dataframe\">\n",
       "  <thead>\n",
       "    <tr style=\"text-align: right;\">\n",
       "      <th></th>\n",
       "      <th>transaction_id</th>\n",
       "      <th>customer_id</th>\n",
       "      <th>name</th>\n",
       "      <th>email</th>\n",
       "      <th>phone</th>\n",
       "      <th>address</th>\n",
       "      <th>city</th>\n",
       "      <th>state</th>\n",
       "      <th>zipcode</th>\n",
       "      <th>country</th>\n",
       "      <th>age</th>\n",
       "      <th>gender</th>\n",
       "      <th>income</th>\n",
       "      <th>customer_segment</th>\n",
       "      <th>date</th>\n",
       "      <th>year</th>\n",
       "      <th>month</th>\n",
       "      <th>time</th>\n",
       "      <th>total_purchases</th>\n",
       "      <th>amount</th>\n",
       "      <th>total_amount</th>\n",
       "      <th>product_category</th>\n",
       "      <th>product_brand</th>\n",
       "      <th>product_type</th>\n",
       "      <th>feedback</th>\n",
       "      <th>shipping_method</th>\n",
       "      <th>payment_method</th>\n",
       "      <th>order_status</th>\n",
       "      <th>ratings</th>\n",
       "      <th>products</th>\n",
       "    </tr>\n",
       "  </thead>\n",
       "  <tbody>\n",
       "    <tr>\n",
       "      <th>1309</th>\n",
       "      <td>9076126</td>\n",
       "      <td>NaN</td>\n",
       "      <td>Kara Harris DDS</td>\n",
       "      <td>Yvette79@gmail.com</td>\n",
       "      <td>7.246837e+09</td>\n",
       "      <td>8226 David Lakes</td>\n",
       "      <td>Portsmouth</td>\n",
       "      <td>England</td>\n",
       "      <td>68085.0</td>\n",
       "      <td>UK</td>\n",
       "      <td>21.0</td>\n",
       "      <td>Female</td>\n",
       "      <td>High</td>\n",
       "      <td>Regular</td>\n",
       "      <td>9/18/2023</td>\n",
       "      <td>2023.0</td>\n",
       "      <td>September</td>\n",
       "      <td>1:03:08</td>\n",
       "      <td>4.0</td>\n",
       "      <td>450.970112</td>\n",
       "      <td>1803.880449</td>\n",
       "      <td>Home Decor</td>\n",
       "      <td>Bed Bath &amp; Beyond</td>\n",
       "      <td>Kitchen</td>\n",
       "      <td>Average</td>\n",
       "      <td>Same-Day</td>\n",
       "      <td>Debit Card</td>\n",
       "      <td>Delivered</td>\n",
       "      <td>2.0</td>\n",
       "      <td>Microwave</td>\n",
       "    </tr>\n",
       "    <tr>\n",
       "      <th>2069</th>\n",
       "      <td>1125458</td>\n",
       "      <td>NaN</td>\n",
       "      <td>Kimberly Summers</td>\n",
       "      <td>James24@gmail.com</td>\n",
       "      <td>2.432282e+09</td>\n",
       "      <td>0887 Goodwin Dale Apt. 043</td>\n",
       "      <td>Portsmouth</td>\n",
       "      <td>England</td>\n",
       "      <td>44430.0</td>\n",
       "      <td>UK</td>\n",
       "      <td>21.0</td>\n",
       "      <td>Male</td>\n",
       "      <td>Medium</td>\n",
       "      <td>Regular</td>\n",
       "      <td>6/10/2023</td>\n",
       "      <td>2023.0</td>\n",
       "      <td>June</td>\n",
       "      <td>19:17:31</td>\n",
       "      <td>5.0</td>\n",
       "      <td>421.381339</td>\n",
       "      <td>2106.906696</td>\n",
       "      <td>Grocery</td>\n",
       "      <td>Nestle</td>\n",
       "      <td>Chocolate</td>\n",
       "      <td>Good</td>\n",
       "      <td>Express</td>\n",
       "      <td>Credit Card</td>\n",
       "      <td>Delivered</td>\n",
       "      <td>3.0</td>\n",
       "      <td>Chocolate-covered fruits</td>\n",
       "    </tr>\n",
       "    <tr>\n",
       "      <th>2136</th>\n",
       "      <td>6139774</td>\n",
       "      <td>NaN</td>\n",
       "      <td>Robin Fisher</td>\n",
       "      <td>Tanner80@gmail.com</td>\n",
       "      <td>9.338870e+09</td>\n",
       "      <td>5723 Rojas Viaduct</td>\n",
       "      <td>Portsmouth</td>\n",
       "      <td>England</td>\n",
       "      <td>58549.0</td>\n",
       "      <td>UK</td>\n",
       "      <td>21.0</td>\n",
       "      <td>Male</td>\n",
       "      <td>Medium</td>\n",
       "      <td>Regular</td>\n",
       "      <td>3/5/2023</td>\n",
       "      <td>2023.0</td>\n",
       "      <td>March</td>\n",
       "      <td>10:09:01</td>\n",
       "      <td>7.0</td>\n",
       "      <td>409.750458</td>\n",
       "      <td>2868.253204</td>\n",
       "      <td>Home Decor</td>\n",
       "      <td>Bed Bath &amp; Beyond</td>\n",
       "      <td>Bathroom</td>\n",
       "      <td>Average</td>\n",
       "      <td>Standard</td>\n",
       "      <td>Credit Card</td>\n",
       "      <td>Pending</td>\n",
       "      <td>2.0</td>\n",
       "      <td>Sink</td>\n",
       "    </tr>\n",
       "    <tr>\n",
       "      <th>2269</th>\n",
       "      <td>5157785</td>\n",
       "      <td>NaN</td>\n",
       "      <td>Alexander Stark</td>\n",
       "      <td>Tabitha81@gmail.com</td>\n",
       "      <td>4.236126e+09</td>\n",
       "      <td>27403 Bennett Inlet</td>\n",
       "      <td>Portsmouth</td>\n",
       "      <td>England</td>\n",
       "      <td>4229.0</td>\n",
       "      <td>UK</td>\n",
       "      <td>21.0</td>\n",
       "      <td>Male</td>\n",
       "      <td>Medium</td>\n",
       "      <td>Regular</td>\n",
       "      <td>1/25/2024</td>\n",
       "      <td>2024.0</td>\n",
       "      <td>January</td>\n",
       "      <td>20:39:09</td>\n",
       "      <td>1.0</td>\n",
       "      <td>273.750191</td>\n",
       "      <td>273.750191</td>\n",
       "      <td>Grocery</td>\n",
       "      <td>Nestle</td>\n",
       "      <td>Coffee</td>\n",
       "      <td>Excellent</td>\n",
       "      <td>Express</td>\n",
       "      <td>Debit Card</td>\n",
       "      <td>Pending</td>\n",
       "      <td>4.0</td>\n",
       "      <td>Americano</td>\n",
       "    </tr>\n",
       "    <tr>\n",
       "      <th>2396</th>\n",
       "      <td>9668849</td>\n",
       "      <td>NaN</td>\n",
       "      <td>Diana Sawyer</td>\n",
       "      <td>Alex49@gmail.com</td>\n",
       "      <td>9.955699e+09</td>\n",
       "      <td>15739 Courtney Drives Apt. 939</td>\n",
       "      <td>Portsmouth</td>\n",
       "      <td>England</td>\n",
       "      <td>77383.0</td>\n",
       "      <td>UK</td>\n",
       "      <td>21.0</td>\n",
       "      <td>Female</td>\n",
       "      <td>Medium</td>\n",
       "      <td>Regular</td>\n",
       "      <td>2/14/2024</td>\n",
       "      <td>2024.0</td>\n",
       "      <td>February</td>\n",
       "      <td>14:42:32</td>\n",
       "      <td>9.0</td>\n",
       "      <td>336.629078</td>\n",
       "      <td>3029.661699</td>\n",
       "      <td>Electronics</td>\n",
       "      <td>Apple</td>\n",
       "      <td>Tablet</td>\n",
       "      <td>Average</td>\n",
       "      <td>Same-Day</td>\n",
       "      <td>Cash</td>\n",
       "      <td>Delivered</td>\n",
       "      <td>2.0</td>\n",
       "      <td>Acer Iconia Tab</td>\n",
       "    </tr>\n",
       "  </tbody>\n",
       "</table>\n",
       "</div>"
      ],
      "text/plain": [
       "      transaction_id  customer_id              name                email  \\\n",
       "1309         9076126          NaN   Kara Harris DDS   Yvette79@gmail.com   \n",
       "2069         1125458          NaN  Kimberly Summers    James24@gmail.com   \n",
       "2136         6139774          NaN      Robin Fisher   Tanner80@gmail.com   \n",
       "2269         5157785          NaN   Alexander Stark  Tabitha81@gmail.com   \n",
       "2396         9668849          NaN      Diana Sawyer     Alex49@gmail.com   \n",
       "\n",
       "             phone                         address        city    state  \\\n",
       "1309  7.246837e+09                8226 David Lakes  Portsmouth  England   \n",
       "2069  2.432282e+09      0887 Goodwin Dale Apt. 043  Portsmouth  England   \n",
       "2136  9.338870e+09              5723 Rojas Viaduct  Portsmouth  England   \n",
       "2269  4.236126e+09             27403 Bennett Inlet  Portsmouth  England   \n",
       "2396  9.955699e+09  15739 Courtney Drives Apt. 939  Portsmouth  England   \n",
       "\n",
       "      zipcode country   age  gender  income customer_segment       date  \\\n",
       "1309  68085.0      UK  21.0  Female    High          Regular  9/18/2023   \n",
       "2069  44430.0      UK  21.0    Male  Medium          Regular  6/10/2023   \n",
       "2136  58549.0      UK  21.0    Male  Medium          Regular   3/5/2023   \n",
       "2269   4229.0      UK  21.0    Male  Medium          Regular  1/25/2024   \n",
       "2396  77383.0      UK  21.0  Female  Medium          Regular  2/14/2024   \n",
       "\n",
       "        year      month      time  total_purchases      amount  total_amount  \\\n",
       "1309  2023.0  September   1:03:08              4.0  450.970112   1803.880449   \n",
       "2069  2023.0       June  19:17:31              5.0  421.381339   2106.906696   \n",
       "2136  2023.0      March  10:09:01              7.0  409.750458   2868.253204   \n",
       "2269  2024.0    January  20:39:09              1.0  273.750191    273.750191   \n",
       "2396  2024.0   February  14:42:32              9.0  336.629078   3029.661699   \n",
       "\n",
       "     product_category      product_brand product_type   feedback  \\\n",
       "1309       Home Decor  Bed Bath & Beyond      Kitchen    Average   \n",
       "2069          Grocery             Nestle    Chocolate       Good   \n",
       "2136       Home Decor  Bed Bath & Beyond     Bathroom    Average   \n",
       "2269          Grocery             Nestle       Coffee  Excellent   \n",
       "2396      Electronics              Apple       Tablet    Average   \n",
       "\n",
       "     shipping_method payment_method order_status  ratings  \\\n",
       "1309        Same-Day     Debit Card    Delivered      2.0   \n",
       "2069         Express    Credit Card    Delivered      3.0   \n",
       "2136        Standard    Credit Card      Pending      2.0   \n",
       "2269         Express     Debit Card      Pending      4.0   \n",
       "2396        Same-Day           Cash    Delivered      2.0   \n",
       "\n",
       "                      products  \n",
       "1309                 Microwave  \n",
       "2069  Chocolate-covered fruits  \n",
       "2136                      Sink  \n",
       "2269                 Americano  \n",
       "2396           Acer Iconia Tab  "
      ]
     },
     "execution_count": 14,
     "metadata": {},
     "output_type": "execute_result"
    }
   ],
   "source": [
    "null_customer_id = df[df['customer_id'].isnull()]\n",
    "null_customer_id.head()"
   ]
  },
  {
   "cell_type": "code",
   "execution_count": 15,
   "id": "3a5f0ea7-f424-475b-8dac-524bee76d311",
   "metadata": {},
   "outputs": [],
   "source": [
    "# Replace the null values in the customer_id with random unique IDs\n",
    "# Convert the column to integer type \n",
    "df['customer_id'] = df['customer_id'].astype('Int64') \n",
    "# Create a random generator object\n",
    "rng = np.random.default_rng(seed=42)  # Use a seed for reproducibility\n",
    "\n",
    "# Identify the number of null values\n",
    "num_customerid_nulls = df['customer_id'].isnull().sum()\n",
    "\n",
    "# Generate a set of unique 7-digit random integers\n",
    "existing_customer_ids = set(df['customer_id'].dropna().astype(int))  # Ensure IDs are treated as strings\n",
    "new_customer_ids = set()\n",
    "while len(new_customer_ids) < num_customerid_nulls:\n",
    "    new_customer_id = str(np.random.randint(10000, 99999))  # Generate 5-digit IDs\n",
    "    if new_customer_id not in existing_customer_ids and new_customer_id not in new_customer_ids:  # Ensure uniqueness\n",
    "        new_customer_ids.add(new_customer_id)\n",
    "\n",
    "# Fill the null values with the new unique IDs\n",
    "df.loc[df['customer_id'].isnull(), 'customer_id'] = list(new_customer_ids)\n"
   ]
  },
  {
   "cell_type": "code",
   "execution_count": 16,
   "id": "4c52637b-5061-4c6d-b656-6a5d8a867959",
   "metadata": {},
   "outputs": [
    {
     "data": {
      "text/plain": [
       "0"
      ]
     },
     "execution_count": 16,
     "metadata": {},
     "output_type": "execute_result"
    }
   ],
   "source": [
    "df['customer_id'].isnull().sum()"
   ]
  },
  {
   "cell_type": "markdown",
   "id": "05d5cead-5ac8-4e86-8a87-131188e3d617",
   "metadata": {},
   "source": [
    "## Dealing with null values in the name, phone, email, address, zipcode column"
   ]
  },
  {
   "cell_type": "code",
   "execution_count": 17,
   "id": "377bda4e-30a9-404d-a05d-38cc9d9ae14a",
   "metadata": {},
   "outputs": [
    {
     "data": {
      "text/html": [
       "<div>\n",
       "<style scoped>\n",
       "    .dataframe tbody tr th:only-of-type {\n",
       "        vertical-align: middle;\n",
       "    }\n",
       "\n",
       "    .dataframe tbody tr th {\n",
       "        vertical-align: top;\n",
       "    }\n",
       "\n",
       "    .dataframe thead th {\n",
       "        text-align: right;\n",
       "    }\n",
       "</style>\n",
       "<table border=\"1\" class=\"dataframe\">\n",
       "  <thead>\n",
       "    <tr style=\"text-align: right;\">\n",
       "      <th></th>\n",
       "      <th>transaction_id</th>\n",
       "      <th>customer_id</th>\n",
       "      <th>name</th>\n",
       "      <th>email</th>\n",
       "      <th>phone</th>\n",
       "      <th>address</th>\n",
       "      <th>city</th>\n",
       "      <th>state</th>\n",
       "      <th>zipcode</th>\n",
       "      <th>country</th>\n",
       "      <th>age</th>\n",
       "      <th>gender</th>\n",
       "      <th>income</th>\n",
       "      <th>customer_segment</th>\n",
       "      <th>date</th>\n",
       "      <th>year</th>\n",
       "      <th>month</th>\n",
       "      <th>time</th>\n",
       "      <th>total_purchases</th>\n",
       "      <th>amount</th>\n",
       "      <th>total_amount</th>\n",
       "      <th>product_category</th>\n",
       "      <th>product_brand</th>\n",
       "      <th>product_type</th>\n",
       "      <th>feedback</th>\n",
       "      <th>shipping_method</th>\n",
       "      <th>payment_method</th>\n",
       "      <th>order_status</th>\n",
       "      <th>ratings</th>\n",
       "      <th>products</th>\n",
       "    </tr>\n",
       "  </thead>\n",
       "  <tbody>\n",
       "    <tr>\n",
       "      <th>3449</th>\n",
       "      <td>3123103</td>\n",
       "      <td>45940</td>\n",
       "      <td>NaN</td>\n",
       "      <td>Natalie62@gmail.com</td>\n",
       "      <td>7.059169e+09</td>\n",
       "      <td>257 Nicholas Roads Apt. 801</td>\n",
       "      <td>Portsmouth</td>\n",
       "      <td>England</td>\n",
       "      <td>81481.0</td>\n",
       "      <td>UK</td>\n",
       "      <td>21.0</td>\n",
       "      <td>Male</td>\n",
       "      <td>Medium</td>\n",
       "      <td>Regular</td>\n",
       "      <td>2/13/2024</td>\n",
       "      <td>2024.0</td>\n",
       "      <td>February</td>\n",
       "      <td>2:01:32</td>\n",
       "      <td>3.0</td>\n",
       "      <td>311.643827</td>\n",
       "      <td>934.931481</td>\n",
       "      <td>Electronics</td>\n",
       "      <td>Apple</td>\n",
       "      <td>Tablet</td>\n",
       "      <td>Bad</td>\n",
       "      <td>Express</td>\n",
       "      <td>Credit Card</td>\n",
       "      <td>Delivered</td>\n",
       "      <td>1.0</td>\n",
       "      <td>Asus ZenPad</td>\n",
       "    </tr>\n",
       "    <tr>\n",
       "      <th>3577</th>\n",
       "      <td>9396347</td>\n",
       "      <td>24702</td>\n",
       "      <td>NaN</td>\n",
       "      <td>Ashley53@gmail.com</td>\n",
       "      <td>3.172745e+09</td>\n",
       "      <td>37738 Andrew Lane</td>\n",
       "      <td>Portsmouth</td>\n",
       "      <td>England</td>\n",
       "      <td>85759.0</td>\n",
       "      <td>UK</td>\n",
       "      <td>21.0</td>\n",
       "      <td>Female</td>\n",
       "      <td>Medium</td>\n",
       "      <td>Regular</td>\n",
       "      <td>7/29/2023</td>\n",
       "      <td>2023.0</td>\n",
       "      <td>July</td>\n",
       "      <td>2:20:16</td>\n",
       "      <td>5.0</td>\n",
       "      <td>301.995126</td>\n",
       "      <td>1509.975630</td>\n",
       "      <td>Electronics</td>\n",
       "      <td>Apple</td>\n",
       "      <td>Laptop</td>\n",
       "      <td>Bad</td>\n",
       "      <td>Express</td>\n",
       "      <td>Cash</td>\n",
       "      <td>Pending</td>\n",
       "      <td>1.0</td>\n",
       "      <td>Acer Swift</td>\n",
       "    </tr>\n",
       "    <tr>\n",
       "      <th>4315</th>\n",
       "      <td>9299705</td>\n",
       "      <td>15811</td>\n",
       "      <td>NaN</td>\n",
       "      <td>Brad10@gmail.com</td>\n",
       "      <td>5.997109e+09</td>\n",
       "      <td>424 Greg Passage Suite 762</td>\n",
       "      <td>Portsmouth</td>\n",
       "      <td>England</td>\n",
       "      <td>5068.0</td>\n",
       "      <td>UK</td>\n",
       "      <td>24.0</td>\n",
       "      <td>Male</td>\n",
       "      <td>Medium</td>\n",
       "      <td>Regular</td>\n",
       "      <td>8/29/2023</td>\n",
       "      <td>2023.0</td>\n",
       "      <td>August</td>\n",
       "      <td>0:34:52</td>\n",
       "      <td>1.0</td>\n",
       "      <td>72.059940</td>\n",
       "      <td>72.059940</td>\n",
       "      <td>Electronics</td>\n",
       "      <td>Apple</td>\n",
       "      <td>Smartphone</td>\n",
       "      <td>Excellent</td>\n",
       "      <td>Same-Day</td>\n",
       "      <td>PayPal</td>\n",
       "      <td>Shipped</td>\n",
       "      <td>4.0</td>\n",
       "      <td>iPhone</td>\n",
       "    </tr>\n",
       "    <tr>\n",
       "      <th>4608</th>\n",
       "      <td>8949630</td>\n",
       "      <td>67800</td>\n",
       "      <td>NaN</td>\n",
       "      <td>Tonya22@gmail.com</td>\n",
       "      <td>3.640584e+09</td>\n",
       "      <td>5981 Daniel Spur Apt. 152</td>\n",
       "      <td>Portsmouth</td>\n",
       "      <td>England</td>\n",
       "      <td>58127.0</td>\n",
       "      <td>UK</td>\n",
       "      <td>24.0</td>\n",
       "      <td>Female</td>\n",
       "      <td>Medium</td>\n",
       "      <td>Regular</td>\n",
       "      <td>4/28/2023</td>\n",
       "      <td>2023.0</td>\n",
       "      <td>April</td>\n",
       "      <td>14:02:42</td>\n",
       "      <td>9.0</td>\n",
       "      <td>209.016063</td>\n",
       "      <td>1881.144565</td>\n",
       "      <td>Electronics</td>\n",
       "      <td>Samsung</td>\n",
       "      <td>Television</td>\n",
       "      <td>Average</td>\n",
       "      <td>Same-Day</td>\n",
       "      <td>PayPal</td>\n",
       "      <td>Processing</td>\n",
       "      <td>2.0</td>\n",
       "      <td>Plasma TV</td>\n",
       "    </tr>\n",
       "    <tr>\n",
       "      <th>6208</th>\n",
       "      <td>8262159</td>\n",
       "      <td>31297</td>\n",
       "      <td>NaN</td>\n",
       "      <td>Janice34@gmail.com</td>\n",
       "      <td>2.557521e+09</td>\n",
       "      <td>1512 Colin Fort</td>\n",
       "      <td>Portsmouth</td>\n",
       "      <td>England</td>\n",
       "      <td>9594.0</td>\n",
       "      <td>UK</td>\n",
       "      <td>24.0</td>\n",
       "      <td>Male</td>\n",
       "      <td>Medium</td>\n",
       "      <td>Regular</td>\n",
       "      <td>10/8/2023</td>\n",
       "      <td>2023.0</td>\n",
       "      <td>October</td>\n",
       "      <td>23:43:42</td>\n",
       "      <td>6.0</td>\n",
       "      <td>76.803125</td>\n",
       "      <td>460.818748</td>\n",
       "      <td>Books</td>\n",
       "      <td>Random House</td>\n",
       "      <td>Literature</td>\n",
       "      <td>Good</td>\n",
       "      <td>Express</td>\n",
       "      <td>Debit Card</td>\n",
       "      <td>Pending</td>\n",
       "      <td>3.0</td>\n",
       "      <td>Drama</td>\n",
       "    </tr>\n",
       "  </tbody>\n",
       "</table>\n",
       "</div>"
      ],
      "text/plain": [
       "      transaction_id  customer_id name                email         phone  \\\n",
       "3449         3123103        45940  NaN  Natalie62@gmail.com  7.059169e+09   \n",
       "3577         9396347        24702  NaN   Ashley53@gmail.com  3.172745e+09   \n",
       "4315         9299705        15811  NaN     Brad10@gmail.com  5.997109e+09   \n",
       "4608         8949630        67800  NaN    Tonya22@gmail.com  3.640584e+09   \n",
       "6208         8262159        31297  NaN   Janice34@gmail.com  2.557521e+09   \n",
       "\n",
       "                          address        city    state  zipcode country   age  \\\n",
       "3449  257 Nicholas Roads Apt. 801  Portsmouth  England  81481.0      UK  21.0   \n",
       "3577            37738 Andrew Lane  Portsmouth  England  85759.0      UK  21.0   \n",
       "4315   424 Greg Passage Suite 762  Portsmouth  England   5068.0      UK  24.0   \n",
       "4608    5981 Daniel Spur Apt. 152  Portsmouth  England  58127.0      UK  24.0   \n",
       "6208              1512 Colin Fort  Portsmouth  England   9594.0      UK  24.0   \n",
       "\n",
       "      gender  income customer_segment       date    year     month      time  \\\n",
       "3449    Male  Medium          Regular  2/13/2024  2024.0  February   2:01:32   \n",
       "3577  Female  Medium          Regular  7/29/2023  2023.0      July   2:20:16   \n",
       "4315    Male  Medium          Regular  8/29/2023  2023.0    August   0:34:52   \n",
       "4608  Female  Medium          Regular  4/28/2023  2023.0     April  14:02:42   \n",
       "6208    Male  Medium          Regular  10/8/2023  2023.0   October  23:43:42   \n",
       "\n",
       "      total_purchases      amount  total_amount product_category  \\\n",
       "3449              3.0  311.643827    934.931481      Electronics   \n",
       "3577              5.0  301.995126   1509.975630      Electronics   \n",
       "4315              1.0   72.059940     72.059940      Electronics   \n",
       "4608              9.0  209.016063   1881.144565      Electronics   \n",
       "6208              6.0   76.803125    460.818748            Books   \n",
       "\n",
       "     product_brand product_type   feedback shipping_method payment_method  \\\n",
       "3449         Apple       Tablet        Bad         Express    Credit Card   \n",
       "3577         Apple       Laptop        Bad         Express           Cash   \n",
       "4315         Apple   Smartphone  Excellent        Same-Day         PayPal   \n",
       "4608       Samsung   Television    Average        Same-Day         PayPal   \n",
       "6208  Random House   Literature       Good         Express     Debit Card   \n",
       "\n",
       "     order_status  ratings     products  \n",
       "3449    Delivered      1.0  Asus ZenPad  \n",
       "3577      Pending      1.0   Acer Swift  \n",
       "4315      Shipped      4.0       iPhone  \n",
       "4608   Processing      2.0    Plasma TV  \n",
       "6208      Pending      3.0        Drama  "
      ]
     },
     "execution_count": 17,
     "metadata": {},
     "output_type": "execute_result"
    }
   ],
   "source": [
    "null_names= df[df['name'].isnull()]\n",
    "null_names.head()"
   ]
  },
  {
   "cell_type": "code",
   "execution_count": 18,
   "id": "0d86397e-b325-4d7d-b62a-33dedb599453",
   "metadata": {},
   "outputs": [],
   "source": [
    "# drop the  columns that are private identifieable information for privacy of customer\n",
    "df.drop(columns=['name', 'email', 'phone', 'address', 'zipcode'], inplace=True)"
   ]
  },
  {
   "cell_type": "code",
   "execution_count": 19,
   "id": "74454429-a710-4d9a-9989-43f9616fbedf",
   "metadata": {},
   "outputs": [
    {
     "data": {
      "text/html": [
       "<div>\n",
       "<style scoped>\n",
       "    .dataframe tbody tr th:only-of-type {\n",
       "        vertical-align: middle;\n",
       "    }\n",
       "\n",
       "    .dataframe tbody tr th {\n",
       "        vertical-align: top;\n",
       "    }\n",
       "\n",
       "    .dataframe thead th {\n",
       "        text-align: right;\n",
       "    }\n",
       "</style>\n",
       "<table border=\"1\" class=\"dataframe\">\n",
       "  <thead>\n",
       "    <tr style=\"text-align: right;\">\n",
       "      <th></th>\n",
       "      <th>transaction_id</th>\n",
       "      <th>customer_id</th>\n",
       "      <th>city</th>\n",
       "      <th>state</th>\n",
       "      <th>country</th>\n",
       "      <th>age</th>\n",
       "      <th>gender</th>\n",
       "      <th>income</th>\n",
       "      <th>customer_segment</th>\n",
       "      <th>date</th>\n",
       "      <th>year</th>\n",
       "      <th>month</th>\n",
       "      <th>time</th>\n",
       "      <th>total_purchases</th>\n",
       "      <th>amount</th>\n",
       "      <th>total_amount</th>\n",
       "      <th>product_category</th>\n",
       "      <th>product_brand</th>\n",
       "      <th>product_type</th>\n",
       "      <th>feedback</th>\n",
       "      <th>shipping_method</th>\n",
       "      <th>payment_method</th>\n",
       "      <th>order_status</th>\n",
       "      <th>ratings</th>\n",
       "      <th>products</th>\n",
       "    </tr>\n",
       "  </thead>\n",
       "  <tbody>\n",
       "    <tr>\n",
       "      <th>0</th>\n",
       "      <td>8691788</td>\n",
       "      <td>37249</td>\n",
       "      <td>Dortmund</td>\n",
       "      <td>Berlin</td>\n",
       "      <td>Germany</td>\n",
       "      <td>21.0</td>\n",
       "      <td>Male</td>\n",
       "      <td>Low</td>\n",
       "      <td>Regular</td>\n",
       "      <td>9/18/2023</td>\n",
       "      <td>2023.0</td>\n",
       "      <td>September</td>\n",
       "      <td>22:03:55</td>\n",
       "      <td>3.0</td>\n",
       "      <td>108.028757</td>\n",
       "      <td>324.086270</td>\n",
       "      <td>Clothing</td>\n",
       "      <td>Nike</td>\n",
       "      <td>Shorts</td>\n",
       "      <td>Excellent</td>\n",
       "      <td>Same-Day</td>\n",
       "      <td>Debit Card</td>\n",
       "      <td>Shipped</td>\n",
       "      <td>5.0</td>\n",
       "      <td>Cycling shorts</td>\n",
       "    </tr>\n",
       "    <tr>\n",
       "      <th>1</th>\n",
       "      <td>2174773</td>\n",
       "      <td>69749</td>\n",
       "      <td>Nottingham</td>\n",
       "      <td>England</td>\n",
       "      <td>UK</td>\n",
       "      <td>19.0</td>\n",
       "      <td>Female</td>\n",
       "      <td>Low</td>\n",
       "      <td>Premium</td>\n",
       "      <td>12/31/2023</td>\n",
       "      <td>2023.0</td>\n",
       "      <td>December</td>\n",
       "      <td>8:42:04</td>\n",
       "      <td>2.0</td>\n",
       "      <td>403.353907</td>\n",
       "      <td>806.707815</td>\n",
       "      <td>Electronics</td>\n",
       "      <td>Samsung</td>\n",
       "      <td>Tablet</td>\n",
       "      <td>Excellent</td>\n",
       "      <td>Standard</td>\n",
       "      <td>Credit Card</td>\n",
       "      <td>Processing</td>\n",
       "      <td>4.0</td>\n",
       "      <td>Lenovo Tab</td>\n",
       "    </tr>\n",
       "    <tr>\n",
       "      <th>2</th>\n",
       "      <td>6679610</td>\n",
       "      <td>30192</td>\n",
       "      <td>Geelong</td>\n",
       "      <td>New South Wales</td>\n",
       "      <td>Australia</td>\n",
       "      <td>48.0</td>\n",
       "      <td>Male</td>\n",
       "      <td>Low</td>\n",
       "      <td>Regular</td>\n",
       "      <td>4/26/2023</td>\n",
       "      <td>2023.0</td>\n",
       "      <td>April</td>\n",
       "      <td>4:06:29</td>\n",
       "      <td>3.0</td>\n",
       "      <td>354.477600</td>\n",
       "      <td>1063.432799</td>\n",
       "      <td>Books</td>\n",
       "      <td>Penguin Books</td>\n",
       "      <td>Children's</td>\n",
       "      <td>Average</td>\n",
       "      <td>Same-Day</td>\n",
       "      <td>Credit Card</td>\n",
       "      <td>Processing</td>\n",
       "      <td>2.0</td>\n",
       "      <td>Sports equipment</td>\n",
       "    </tr>\n",
       "    <tr>\n",
       "      <th>3</th>\n",
       "      <td>7232460</td>\n",
       "      <td>62101</td>\n",
       "      <td>Edmonton</td>\n",
       "      <td>Ontario</td>\n",
       "      <td>Canada</td>\n",
       "      <td>56.0</td>\n",
       "      <td>Male</td>\n",
       "      <td>High</td>\n",
       "      <td>Premium</td>\n",
       "      <td>5/8/2023</td>\n",
       "      <td>2023.0</td>\n",
       "      <td>May</td>\n",
       "      <td>14:55:17</td>\n",
       "      <td>7.0</td>\n",
       "      <td>352.407717</td>\n",
       "      <td>2466.854021</td>\n",
       "      <td>Home Decor</td>\n",
       "      <td>Home Depot</td>\n",
       "      <td>Tools</td>\n",
       "      <td>Excellent</td>\n",
       "      <td>Standard</td>\n",
       "      <td>PayPal</td>\n",
       "      <td>Processing</td>\n",
       "      <td>4.0</td>\n",
       "      <td>Utility knife</td>\n",
       "    </tr>\n",
       "    <tr>\n",
       "      <th>4</th>\n",
       "      <td>4983775</td>\n",
       "      <td>27901</td>\n",
       "      <td>Bristol</td>\n",
       "      <td>England</td>\n",
       "      <td>UK</td>\n",
       "      <td>22.0</td>\n",
       "      <td>Male</td>\n",
       "      <td>Low</td>\n",
       "      <td>Premium</td>\n",
       "      <td>1/10/2024</td>\n",
       "      <td>2024.0</td>\n",
       "      <td>January</td>\n",
       "      <td>16:54:07</td>\n",
       "      <td>2.0</td>\n",
       "      <td>124.276524</td>\n",
       "      <td>248.553049</td>\n",
       "      <td>Grocery</td>\n",
       "      <td>Nestle</td>\n",
       "      <td>Chocolate</td>\n",
       "      <td>Bad</td>\n",
       "      <td>Standard</td>\n",
       "      <td>Cash</td>\n",
       "      <td>Shipped</td>\n",
       "      <td>1.0</td>\n",
       "      <td>Chocolate cookies</td>\n",
       "    </tr>\n",
       "  </tbody>\n",
       "</table>\n",
       "</div>"
      ],
      "text/plain": [
       "   transaction_id  customer_id        city            state    country   age  \\\n",
       "0         8691788        37249    Dortmund           Berlin    Germany  21.0   \n",
       "1         2174773        69749  Nottingham          England         UK  19.0   \n",
       "2         6679610        30192     Geelong  New South Wales  Australia  48.0   \n",
       "3         7232460        62101    Edmonton          Ontario     Canada  56.0   \n",
       "4         4983775        27901     Bristol          England         UK  22.0   \n",
       "\n",
       "   gender income customer_segment        date    year      month      time  \\\n",
       "0    Male    Low          Regular   9/18/2023  2023.0  September  22:03:55   \n",
       "1  Female    Low          Premium  12/31/2023  2023.0   December   8:42:04   \n",
       "2    Male    Low          Regular   4/26/2023  2023.0      April   4:06:29   \n",
       "3    Male   High          Premium    5/8/2023  2023.0        May  14:55:17   \n",
       "4    Male    Low          Premium   1/10/2024  2024.0    January  16:54:07   \n",
       "\n",
       "   total_purchases      amount  total_amount product_category  product_brand  \\\n",
       "0              3.0  108.028757    324.086270         Clothing           Nike   \n",
       "1              2.0  403.353907    806.707815      Electronics        Samsung   \n",
       "2              3.0  354.477600   1063.432799            Books  Penguin Books   \n",
       "3              7.0  352.407717   2466.854021       Home Decor     Home Depot   \n",
       "4              2.0  124.276524    248.553049          Grocery         Nestle   \n",
       "\n",
       "  product_type   feedback shipping_method payment_method order_status  \\\n",
       "0       Shorts  Excellent        Same-Day     Debit Card      Shipped   \n",
       "1       Tablet  Excellent        Standard    Credit Card   Processing   \n",
       "2   Children's    Average        Same-Day    Credit Card   Processing   \n",
       "3        Tools  Excellent        Standard         PayPal   Processing   \n",
       "4    Chocolate        Bad        Standard           Cash      Shipped   \n",
       "\n",
       "   ratings           products  \n",
       "0      5.0     Cycling shorts  \n",
       "1      4.0         Lenovo Tab  \n",
       "2      2.0   Sports equipment  \n",
       "3      4.0      Utility knife  \n",
       "4      1.0  Chocolate cookies  "
      ]
     },
     "execution_count": 19,
     "metadata": {},
     "output_type": "execute_result"
    }
   ],
   "source": [
    "df.head()"
   ]
  },
  {
   "cell_type": "markdown",
   "id": "1dadb2ea-cefd-4736-b202-a87d9270a584",
   "metadata": {},
   "source": [
    "## Dealing with null values in the year column"
   ]
  },
  {
   "cell_type": "code",
   "execution_count": 20,
   "id": "6bb0b2fb-ad05-474b-9c32-a73afd0d375b",
   "metadata": {},
   "outputs": [
    {
     "data": {
      "text/plain": [
       "350"
      ]
     },
     "execution_count": 20,
     "metadata": {},
     "output_type": "execute_result"
    }
   ],
   "source": [
    "df['year'].isnull().sum()"
   ]
  },
  {
   "cell_type": "code",
   "execution_count": 21,
   "id": "3d68785c-d97c-4ae2-bd4e-7f7d9219d7e8",
   "metadata": {},
   "outputs": [],
   "source": [
    "# replace the null values with mean\n",
    "year_mean = df['year'].mean().round(0)\n",
    "\n",
    "df['year'] = df['year'].fillna(year_mean)"
   ]
  },
  {
   "cell_type": "code",
   "execution_count": 22,
   "id": "37e67578-15fa-4f84-be9e-5e7e4ae9b572",
   "metadata": {},
   "outputs": [
    {
     "data": {
      "text/plain": [
       "0"
      ]
     },
     "execution_count": 22,
     "metadata": {},
     "output_type": "execute_result"
    }
   ],
   "source": [
    "df['year'].isnull().sum()"
   ]
  },
  {
   "cell_type": "code",
   "execution_count": 23,
   "id": "d74c1016-dbdf-4365-bca4-dccb551dfd67",
   "metadata": {},
   "outputs": [
    {
     "data": {
      "text/html": [
       "<div>\n",
       "<style scoped>\n",
       "    .dataframe tbody tr th:only-of-type {\n",
       "        vertical-align: middle;\n",
       "    }\n",
       "\n",
       "    .dataframe tbody tr th {\n",
       "        vertical-align: top;\n",
       "    }\n",
       "\n",
       "    .dataframe thead th {\n",
       "        text-align: right;\n",
       "    }\n",
       "</style>\n",
       "<table border=\"1\" class=\"dataframe\">\n",
       "  <thead>\n",
       "    <tr style=\"text-align: right;\">\n",
       "      <th></th>\n",
       "      <th>transaction_id</th>\n",
       "      <th>customer_id</th>\n",
       "      <th>city</th>\n",
       "      <th>state</th>\n",
       "      <th>country</th>\n",
       "      <th>age</th>\n",
       "      <th>gender</th>\n",
       "      <th>income</th>\n",
       "      <th>customer_segment</th>\n",
       "      <th>date</th>\n",
       "      <th>year</th>\n",
       "      <th>month</th>\n",
       "      <th>time</th>\n",
       "      <th>total_purchases</th>\n",
       "      <th>amount</th>\n",
       "      <th>total_amount</th>\n",
       "      <th>product_category</th>\n",
       "      <th>product_brand</th>\n",
       "      <th>product_type</th>\n",
       "      <th>feedback</th>\n",
       "      <th>shipping_method</th>\n",
       "      <th>payment_method</th>\n",
       "      <th>order_status</th>\n",
       "      <th>ratings</th>\n",
       "      <th>products</th>\n",
       "    </tr>\n",
       "  </thead>\n",
       "  <tbody>\n",
       "    <tr>\n",
       "      <th>0</th>\n",
       "      <td>8691788</td>\n",
       "      <td>37249</td>\n",
       "      <td>Dortmund</td>\n",
       "      <td>Berlin</td>\n",
       "      <td>Germany</td>\n",
       "      <td>21.0</td>\n",
       "      <td>Male</td>\n",
       "      <td>Low</td>\n",
       "      <td>Regular</td>\n",
       "      <td>9/18/2023</td>\n",
       "      <td>2023</td>\n",
       "      <td>September</td>\n",
       "      <td>22:03:55</td>\n",
       "      <td>3.0</td>\n",
       "      <td>108.028757</td>\n",
       "      <td>324.086270</td>\n",
       "      <td>Clothing</td>\n",
       "      <td>Nike</td>\n",
       "      <td>Shorts</td>\n",
       "      <td>Excellent</td>\n",
       "      <td>Same-Day</td>\n",
       "      <td>Debit Card</td>\n",
       "      <td>Shipped</td>\n",
       "      <td>5.0</td>\n",
       "      <td>Cycling shorts</td>\n",
       "    </tr>\n",
       "    <tr>\n",
       "      <th>1</th>\n",
       "      <td>2174773</td>\n",
       "      <td>69749</td>\n",
       "      <td>Nottingham</td>\n",
       "      <td>England</td>\n",
       "      <td>UK</td>\n",
       "      <td>19.0</td>\n",
       "      <td>Female</td>\n",
       "      <td>Low</td>\n",
       "      <td>Premium</td>\n",
       "      <td>12/31/2023</td>\n",
       "      <td>2023</td>\n",
       "      <td>December</td>\n",
       "      <td>8:42:04</td>\n",
       "      <td>2.0</td>\n",
       "      <td>403.353907</td>\n",
       "      <td>806.707815</td>\n",
       "      <td>Electronics</td>\n",
       "      <td>Samsung</td>\n",
       "      <td>Tablet</td>\n",
       "      <td>Excellent</td>\n",
       "      <td>Standard</td>\n",
       "      <td>Credit Card</td>\n",
       "      <td>Processing</td>\n",
       "      <td>4.0</td>\n",
       "      <td>Lenovo Tab</td>\n",
       "    </tr>\n",
       "    <tr>\n",
       "      <th>2</th>\n",
       "      <td>6679610</td>\n",
       "      <td>30192</td>\n",
       "      <td>Geelong</td>\n",
       "      <td>New South Wales</td>\n",
       "      <td>Australia</td>\n",
       "      <td>48.0</td>\n",
       "      <td>Male</td>\n",
       "      <td>Low</td>\n",
       "      <td>Regular</td>\n",
       "      <td>4/26/2023</td>\n",
       "      <td>2023</td>\n",
       "      <td>April</td>\n",
       "      <td>4:06:29</td>\n",
       "      <td>3.0</td>\n",
       "      <td>354.477600</td>\n",
       "      <td>1063.432799</td>\n",
       "      <td>Books</td>\n",
       "      <td>Penguin Books</td>\n",
       "      <td>Children's</td>\n",
       "      <td>Average</td>\n",
       "      <td>Same-Day</td>\n",
       "      <td>Credit Card</td>\n",
       "      <td>Processing</td>\n",
       "      <td>2.0</td>\n",
       "      <td>Sports equipment</td>\n",
       "    </tr>\n",
       "    <tr>\n",
       "      <th>3</th>\n",
       "      <td>7232460</td>\n",
       "      <td>62101</td>\n",
       "      <td>Edmonton</td>\n",
       "      <td>Ontario</td>\n",
       "      <td>Canada</td>\n",
       "      <td>56.0</td>\n",
       "      <td>Male</td>\n",
       "      <td>High</td>\n",
       "      <td>Premium</td>\n",
       "      <td>5/8/2023</td>\n",
       "      <td>2023</td>\n",
       "      <td>May</td>\n",
       "      <td>14:55:17</td>\n",
       "      <td>7.0</td>\n",
       "      <td>352.407717</td>\n",
       "      <td>2466.854021</td>\n",
       "      <td>Home Decor</td>\n",
       "      <td>Home Depot</td>\n",
       "      <td>Tools</td>\n",
       "      <td>Excellent</td>\n",
       "      <td>Standard</td>\n",
       "      <td>PayPal</td>\n",
       "      <td>Processing</td>\n",
       "      <td>4.0</td>\n",
       "      <td>Utility knife</td>\n",
       "    </tr>\n",
       "    <tr>\n",
       "      <th>4</th>\n",
       "      <td>4983775</td>\n",
       "      <td>27901</td>\n",
       "      <td>Bristol</td>\n",
       "      <td>England</td>\n",
       "      <td>UK</td>\n",
       "      <td>22.0</td>\n",
       "      <td>Male</td>\n",
       "      <td>Low</td>\n",
       "      <td>Premium</td>\n",
       "      <td>1/10/2024</td>\n",
       "      <td>2024</td>\n",
       "      <td>January</td>\n",
       "      <td>16:54:07</td>\n",
       "      <td>2.0</td>\n",
       "      <td>124.276524</td>\n",
       "      <td>248.553049</td>\n",
       "      <td>Grocery</td>\n",
       "      <td>Nestle</td>\n",
       "      <td>Chocolate</td>\n",
       "      <td>Bad</td>\n",
       "      <td>Standard</td>\n",
       "      <td>Cash</td>\n",
       "      <td>Shipped</td>\n",
       "      <td>1.0</td>\n",
       "      <td>Chocolate cookies</td>\n",
       "    </tr>\n",
       "  </tbody>\n",
       "</table>\n",
       "</div>"
      ],
      "text/plain": [
       "   transaction_id  customer_id        city            state    country   age  \\\n",
       "0         8691788        37249    Dortmund           Berlin    Germany  21.0   \n",
       "1         2174773        69749  Nottingham          England         UK  19.0   \n",
       "2         6679610        30192     Geelong  New South Wales  Australia  48.0   \n",
       "3         7232460        62101    Edmonton          Ontario     Canada  56.0   \n",
       "4         4983775        27901     Bristol          England         UK  22.0   \n",
       "\n",
       "   gender income customer_segment        date  year      month      time  \\\n",
       "0    Male    Low          Regular   9/18/2023  2023  September  22:03:55   \n",
       "1  Female    Low          Premium  12/31/2023  2023   December   8:42:04   \n",
       "2    Male    Low          Regular   4/26/2023  2023      April   4:06:29   \n",
       "3    Male   High          Premium    5/8/2023  2023        May  14:55:17   \n",
       "4    Male    Low          Premium   1/10/2024  2024    January  16:54:07   \n",
       "\n",
       "   total_purchases      amount  total_amount product_category  product_brand  \\\n",
       "0              3.0  108.028757    324.086270         Clothing           Nike   \n",
       "1              2.0  403.353907    806.707815      Electronics        Samsung   \n",
       "2              3.0  354.477600   1063.432799            Books  Penguin Books   \n",
       "3              7.0  352.407717   2466.854021       Home Decor     Home Depot   \n",
       "4              2.0  124.276524    248.553049          Grocery         Nestle   \n",
       "\n",
       "  product_type   feedback shipping_method payment_method order_status  \\\n",
       "0       Shorts  Excellent        Same-Day     Debit Card      Shipped   \n",
       "1       Tablet  Excellent        Standard    Credit Card   Processing   \n",
       "2   Children's    Average        Same-Day    Credit Card   Processing   \n",
       "3        Tools  Excellent        Standard         PayPal   Processing   \n",
       "4    Chocolate        Bad        Standard           Cash      Shipped   \n",
       "\n",
       "   ratings           products  \n",
       "0      5.0     Cycling shorts  \n",
       "1      4.0         Lenovo Tab  \n",
       "2      2.0   Sports equipment  \n",
       "3      4.0      Utility knife  \n",
       "4      1.0  Chocolate cookies  "
      ]
     },
     "execution_count": 23,
     "metadata": {},
     "output_type": "execute_result"
    }
   ],
   "source": [
    "# converting year column into integer\n",
    "df['year'] = df['year'].astype('Int64') \n",
    "df.head()"
   ]
  },
  {
   "cell_type": "markdown",
   "id": "74e54ce6-c5f4-4db6-96ff-8ad314b0bfc4",
   "metadata": {},
   "source": [
    "## Dealing with null values in the city column"
   ]
  },
  {
   "cell_type": "code",
   "execution_count": 24,
   "id": "a7eacbcf-7954-45f9-8333-80b1bbbba40d",
   "metadata": {},
   "outputs": [
    {
     "data": {
      "text/html": [
       "<div>\n",
       "<style scoped>\n",
       "    .dataframe tbody tr th:only-of-type {\n",
       "        vertical-align: middle;\n",
       "    }\n",
       "\n",
       "    .dataframe tbody tr th {\n",
       "        vertical-align: top;\n",
       "    }\n",
       "\n",
       "    .dataframe thead th {\n",
       "        text-align: right;\n",
       "    }\n",
       "</style>\n",
       "<table border=\"1\" class=\"dataframe\">\n",
       "  <thead>\n",
       "    <tr style=\"text-align: right;\">\n",
       "      <th></th>\n",
       "      <th>transaction_id</th>\n",
       "      <th>customer_id</th>\n",
       "      <th>city</th>\n",
       "      <th>state</th>\n",
       "      <th>country</th>\n",
       "      <th>age</th>\n",
       "      <th>gender</th>\n",
       "      <th>income</th>\n",
       "      <th>customer_segment</th>\n",
       "      <th>date</th>\n",
       "      <th>year</th>\n",
       "      <th>month</th>\n",
       "      <th>time</th>\n",
       "      <th>total_purchases</th>\n",
       "      <th>amount</th>\n",
       "      <th>total_amount</th>\n",
       "      <th>product_category</th>\n",
       "      <th>product_brand</th>\n",
       "      <th>product_type</th>\n",
       "      <th>feedback</th>\n",
       "      <th>shipping_method</th>\n",
       "      <th>payment_method</th>\n",
       "      <th>order_status</th>\n",
       "      <th>ratings</th>\n",
       "      <th>products</th>\n",
       "    </tr>\n",
       "  </thead>\n",
       "  <tbody>\n",
       "    <tr>\n",
       "      <th>30903</th>\n",
       "      <td>5695172</td>\n",
       "      <td>65712</td>\n",
       "      <td>NaN</td>\n",
       "      <td>England</td>\n",
       "      <td>UK</td>\n",
       "      <td>22.0</td>\n",
       "      <td>Male</td>\n",
       "      <td>High</td>\n",
       "      <td>Regular</td>\n",
       "      <td>4/13/2023</td>\n",
       "      <td>2023</td>\n",
       "      <td>April</td>\n",
       "      <td>20:56:39</td>\n",
       "      <td>6.0</td>\n",
       "      <td>28.185125</td>\n",
       "      <td>169.110749</td>\n",
       "      <td>Clothing</td>\n",
       "      <td>Adidas</td>\n",
       "      <td>Jacket</td>\n",
       "      <td>Average</td>\n",
       "      <td>Standard</td>\n",
       "      <td>PayPal</td>\n",
       "      <td>Delivered</td>\n",
       "      <td>2.0</td>\n",
       "      <td>Peacoat</td>\n",
       "    </tr>\n",
       "    <tr>\n",
       "      <th>34227</th>\n",
       "      <td>2344287</td>\n",
       "      <td>35757</td>\n",
       "      <td>NaN</td>\n",
       "      <td>North Carolina</td>\n",
       "      <td>USA</td>\n",
       "      <td>22.0</td>\n",
       "      <td>Female</td>\n",
       "      <td>Low</td>\n",
       "      <td>Regular</td>\n",
       "      <td>9/7/2023</td>\n",
       "      <td>2023</td>\n",
       "      <td>September</td>\n",
       "      <td>6:16:25</td>\n",
       "      <td>4.0</td>\n",
       "      <td>167.815723</td>\n",
       "      <td>671.262893</td>\n",
       "      <td>Home Decor</td>\n",
       "      <td>Home Depot</td>\n",
       "      <td>Tools</td>\n",
       "      <td>Excellent</td>\n",
       "      <td>Same-Day</td>\n",
       "      <td>PayPal</td>\n",
       "      <td>Delivered</td>\n",
       "      <td>4.0</td>\n",
       "      <td>Utility knife</td>\n",
       "    </tr>\n",
       "    <tr>\n",
       "      <th>36340</th>\n",
       "      <td>6311279</td>\n",
       "      <td>69037</td>\n",
       "      <td>NaN</td>\n",
       "      <td>Arkansas</td>\n",
       "      <td>USA</td>\n",
       "      <td>22.0</td>\n",
       "      <td>Male</td>\n",
       "      <td>High</td>\n",
       "      <td>Regular</td>\n",
       "      <td>3/6/2023</td>\n",
       "      <td>2023</td>\n",
       "      <td>March</td>\n",
       "      <td>3:25:55</td>\n",
       "      <td>8.0</td>\n",
       "      <td>259.063949</td>\n",
       "      <td>2072.511594</td>\n",
       "      <td>Grocery</td>\n",
       "      <td>Coca-Cola</td>\n",
       "      <td>Soft Drink</td>\n",
       "      <td>Average</td>\n",
       "      <td>Standard</td>\n",
       "      <td>PayPal</td>\n",
       "      <td>Delivered</td>\n",
       "      <td>2.0</td>\n",
       "      <td>Orange soda</td>\n",
       "    </tr>\n",
       "    <tr>\n",
       "      <th>36701</th>\n",
       "      <td>6364411</td>\n",
       "      <td>97562</td>\n",
       "      <td>NaN</td>\n",
       "      <td>New South Wales</td>\n",
       "      <td>Australia</td>\n",
       "      <td>22.0</td>\n",
       "      <td>Female</td>\n",
       "      <td>Low</td>\n",
       "      <td>Regular</td>\n",
       "      <td>1/29/2024</td>\n",
       "      <td>2024</td>\n",
       "      <td>January</td>\n",
       "      <td>23:41:03</td>\n",
       "      <td>6.0</td>\n",
       "      <td>397.515059</td>\n",
       "      <td>2385.090356</td>\n",
       "      <td>Books</td>\n",
       "      <td>HarperCollins</td>\n",
       "      <td>Non-Fiction</td>\n",
       "      <td>Excellent</td>\n",
       "      <td>Same-Day</td>\n",
       "      <td>Debit Card</td>\n",
       "      <td>Delivered</td>\n",
       "      <td>4.0</td>\n",
       "      <td>Psychology</td>\n",
       "    </tr>\n",
       "    <tr>\n",
       "      <th>38608</th>\n",
       "      <td>2001432</td>\n",
       "      <td>48237</td>\n",
       "      <td>NaN</td>\n",
       "      <td>England</td>\n",
       "      <td>UK</td>\n",
       "      <td>22.0</td>\n",
       "      <td>Male</td>\n",
       "      <td>High</td>\n",
       "      <td>Regular</td>\n",
       "      <td>5/1/2023</td>\n",
       "      <td>2023</td>\n",
       "      <td>May</td>\n",
       "      <td>3:28:14</td>\n",
       "      <td>1.0</td>\n",
       "      <td>81.243538</td>\n",
       "      <td>81.243538</td>\n",
       "      <td>Grocery</td>\n",
       "      <td>Coca-Cola</td>\n",
       "      <td>Soft Drink</td>\n",
       "      <td>Average</td>\n",
       "      <td>Standard</td>\n",
       "      <td>Debit Card</td>\n",
       "      <td>Delivered</td>\n",
       "      <td>2.0</td>\n",
       "      <td>Ginger ale</td>\n",
       "    </tr>\n",
       "  </tbody>\n",
       "</table>\n",
       "</div>"
      ],
      "text/plain": [
       "       transaction_id  customer_id city            state    country   age  \\\n",
       "30903         5695172        65712  NaN          England         UK  22.0   \n",
       "34227         2344287        35757  NaN   North Carolina        USA  22.0   \n",
       "36340         6311279        69037  NaN         Arkansas        USA  22.0   \n",
       "36701         6364411        97562  NaN  New South Wales  Australia  22.0   \n",
       "38608         2001432        48237  NaN          England         UK  22.0   \n",
       "\n",
       "       gender income customer_segment       date  year      month      time  \\\n",
       "30903    Male   High          Regular  4/13/2023  2023      April  20:56:39   \n",
       "34227  Female    Low          Regular   9/7/2023  2023  September   6:16:25   \n",
       "36340    Male   High          Regular   3/6/2023  2023      March   3:25:55   \n",
       "36701  Female    Low          Regular  1/29/2024  2024    January  23:41:03   \n",
       "38608    Male   High          Regular   5/1/2023  2023        May   3:28:14   \n",
       "\n",
       "       total_purchases      amount  total_amount product_category  \\\n",
       "30903              6.0   28.185125    169.110749         Clothing   \n",
       "34227              4.0  167.815723    671.262893       Home Decor   \n",
       "36340              8.0  259.063949   2072.511594          Grocery   \n",
       "36701              6.0  397.515059   2385.090356            Books   \n",
       "38608              1.0   81.243538     81.243538          Grocery   \n",
       "\n",
       "       product_brand product_type   feedback shipping_method payment_method  \\\n",
       "30903         Adidas       Jacket    Average        Standard         PayPal   \n",
       "34227     Home Depot        Tools  Excellent        Same-Day         PayPal   \n",
       "36340      Coca-Cola   Soft Drink    Average        Standard         PayPal   \n",
       "36701  HarperCollins  Non-Fiction  Excellent        Same-Day     Debit Card   \n",
       "38608      Coca-Cola   Soft Drink    Average        Standard     Debit Card   \n",
       "\n",
       "      order_status  ratings       products  \n",
       "30903    Delivered      2.0        Peacoat  \n",
       "34227    Delivered      4.0  Utility knife  \n",
       "36340    Delivered      2.0    Orange soda  \n",
       "36701    Delivered      4.0     Psychology  \n",
       "38608    Delivered      2.0     Ginger ale  "
      ]
     },
     "execution_count": 24,
     "metadata": {},
     "output_type": "execute_result"
    }
   ],
   "source": [
    "null_city = df[df['city'].isnull()]\n",
    "null_city.head()"
   ]
  },
  {
   "cell_type": "code",
   "execution_count": 25,
   "id": "5de05452-0348-41b7-a6f1-d1cb66707d9c",
   "metadata": {},
   "outputs": [],
   "source": [
    "city_null = 'not listed'\n",
    "\n",
    "df['city'] = df['city'].fillna(city_null)"
   ]
  },
  {
   "cell_type": "code",
   "execution_count": 26,
   "id": "1ed6d439-d3c0-49cc-a5a1-26c71f8eff20",
   "metadata": {},
   "outputs": [
    {
     "data": {
      "text/plain": [
       "0"
      ]
     },
     "execution_count": 26,
     "metadata": {},
     "output_type": "execute_result"
    }
   ],
   "source": [
    "df['city'].isnull().sum()"
   ]
  },
  {
   "cell_type": "markdown",
   "id": "70be67b1-faef-4fe1-906b-1a528884d8f4",
   "metadata": {},
   "source": [
    "## Dealing with null values in the state column"
   ]
  },
  {
   "cell_type": "code",
   "execution_count": 27,
   "id": "dc17059c-ee81-4179-9182-7e1dc3833e23",
   "metadata": {},
   "outputs": [
    {
     "data": {
      "text/plain": [
       "281"
      ]
     },
     "execution_count": 27,
     "metadata": {},
     "output_type": "execute_result"
    }
   ],
   "source": [
    "df['state'].isnull().sum()"
   ]
  },
  {
   "cell_type": "code",
   "execution_count": 28,
   "id": "2dbc9e1d-8a9b-4d89-89f3-a61a78470fe3",
   "metadata": {},
   "outputs": [],
   "source": [
    "state_null = 'not listed'\n",
    "\n",
    "df['state'] = df['state'].fillna(state_null)"
   ]
  },
  {
   "cell_type": "code",
   "execution_count": 29,
   "id": "e09e3b37-aac1-4f26-913f-048ed6080f4f",
   "metadata": {},
   "outputs": [
    {
     "data": {
      "text/plain": [
       "0"
      ]
     },
     "execution_count": 29,
     "metadata": {},
     "output_type": "execute_result"
    }
   ],
   "source": [
    "df['city'].isnull().sum()"
   ]
  },
  {
   "cell_type": "code",
   "execution_count": 30,
   "id": "90d1fecb-dd68-4845-a1b7-4b03aedf8ea4",
   "metadata": {},
   "outputs": [
    {
     "data": {
      "text/plain": [
       "transaction_id        0\n",
       "customer_id           0\n",
       "city                  0\n",
       "state                 0\n",
       "country             271\n",
       "age                 173\n",
       "gender              317\n",
       "income              290\n",
       "customer_segment    215\n",
       "date                359\n",
       "year                  0\n",
       "month               273\n",
       "time                350\n",
       "total_purchases     361\n",
       "amount              357\n",
       "total_amount        350\n",
       "product_category    283\n",
       "product_brand       281\n",
       "product_type          0\n",
       "feedback            184\n",
       "shipping_method     337\n",
       "payment_method      297\n",
       "order_status        235\n",
       "ratings             184\n",
       "products              0\n",
       "dtype: int64"
      ]
     },
     "execution_count": 30,
     "metadata": {},
     "output_type": "execute_result"
    }
   ],
   "source": [
    "df.isnull().sum()"
   ]
  },
  {
   "cell_type": "markdown",
   "id": "3767284b-6d36-477b-91b6-9c73385feda3",
   "metadata": {},
   "source": [
    "## Dealing with null values in country column"
   ]
  },
  {
   "cell_type": "code",
   "execution_count": 31,
   "id": "a2645c93-25d6-4351-9b32-34cc1066e04f",
   "metadata": {},
   "outputs": [
    {
     "data": {
      "text/plain": [
       "271"
      ]
     },
     "execution_count": 31,
     "metadata": {},
     "output_type": "execute_result"
    }
   ],
   "source": [
    "df['country'].isnull().sum()"
   ]
  },
  {
   "cell_type": "code",
   "execution_count": 32,
   "id": "e1659652-67f8-45c9-a878-81fae36b9529",
   "metadata": {},
   "outputs": [],
   "source": [
    "country_null = 'not listed'\n",
    "\n",
    "df['country'] = df['country'].fillna(country_null)"
   ]
  },
  {
   "cell_type": "markdown",
   "id": "3629212c-ca5d-4f92-84bb-e7b5835eb89d",
   "metadata": {},
   "source": [
    "# Dealing with null values in the age column"
   ]
  },
  {
   "cell_type": "code",
   "execution_count": 33,
   "id": "a0d04662-fa88-432d-b1cb-4aebc5c29489",
   "metadata": {},
   "outputs": [],
   "source": [
    "# calculating the mean and filling the null values with it \n",
    "age_mean = df['age'].mean().round(0)\n",
    "df['age'] = df['age'].fillna(age_mean)"
   ]
  },
  {
   "cell_type": "markdown",
   "id": "fec9c531-6cb9-4a46-ad37-ec06d2edd4ca",
   "metadata": {},
   "source": [
    "## Dealing with null values in the gender column"
   ]
  },
  {
   "cell_type": "code",
   "execution_count": 34,
   "id": "72c76c7f-421f-41ad-9e45-88cf51a794ab",
   "metadata": {},
   "outputs": [
    {
     "data": {
      "text/plain": [
       "0    Male\n",
       "Name: gender, dtype: object"
      ]
     },
     "execution_count": 34,
     "metadata": {},
     "output_type": "execute_result"
    }
   ],
   "source": [
    "# calculating the mode and filling the null values with it\n",
    "gender_mode = df['gender'].mode()\n",
    "gender_mode"
   ]
  },
  {
   "cell_type": "code",
   "execution_count": 35,
   "id": "56bbad3b-be53-4d41-b071-9a3630f8105e",
   "metadata": {},
   "outputs": [],
   "source": [
    "df['gender'] = df['gender'].fillna('Male')"
   ]
  },
  {
   "cell_type": "markdown",
   "id": "2d63ef56-de03-4546-ad7c-3c670d3cbe13",
   "metadata": {},
   "source": [
    "## Dealing with null values in the income column"
   ]
  },
  {
   "cell_type": "code",
   "execution_count": 36,
   "id": "b5a1b249-ccd0-4503-a32f-78238557940b",
   "metadata": {},
   "outputs": [
    {
     "data": {
      "text/plain": [
       "0    Medium\n",
       "Name: income, dtype: object"
      ]
     },
     "execution_count": 36,
     "metadata": {},
     "output_type": "execute_result"
    }
   ],
   "source": [
    "# calculating the most frequent income \n",
    "mode_income = df['income'].mode()\n",
    "mode_income"
   ]
  },
  {
   "cell_type": "code",
   "execution_count": 37,
   "id": "695abe99-f998-4485-bd97-df0910b41820",
   "metadata": {},
   "outputs": [],
   "source": [
    "df['income'] = df['income'].fillna('Medium')"
   ]
  },
  {
   "cell_type": "markdown",
   "id": "55fa97cb-a6c4-48a0-9541-d3e35a014035",
   "metadata": {},
   "source": [
    "## Dealing with null values in the customer segment"
   ]
  },
  {
   "cell_type": "code",
   "execution_count": 38,
   "id": "1ab903d9-4b37-456e-afb9-b19a38b7485c",
   "metadata": {},
   "outputs": [
    {
     "data": {
      "text/plain": [
       "0    Regular\n",
       "Name: customer_segment, dtype: object"
      ]
     },
     "execution_count": 38,
     "metadata": {},
     "output_type": "execute_result"
    }
   ],
   "source": [
    "# calculating the most frequent customer segment\n",
    "mode_seg = df['customer_segment'].mode()\n",
    "mode_seg"
   ]
  },
  {
   "cell_type": "code",
   "execution_count": 39,
   "id": "099bdcad-bd1a-4319-bcc2-05239fe765f3",
   "metadata": {},
   "outputs": [],
   "source": [
    "df['customer_segment'] = df['customer_segment'].fillna('Regular')"
   ]
  },
  {
   "cell_type": "markdown",
   "id": "6c363c5b-207a-4cd3-8e48-7eedc7ea8578",
   "metadata": {},
   "source": [
    "## Dealing with null values in the date column"
   ]
  },
  {
   "cell_type": "code",
   "execution_count": 40,
   "id": "2dd9393e-d668-467a-aa3d-494176fd1197",
   "metadata": {},
   "outputs": [
    {
     "data": {
      "text/plain": [
       "0    11/22/2023\n",
       "Name: date, dtype: object"
      ]
     },
     "execution_count": 40,
     "metadata": {},
     "output_type": "execute_result"
    }
   ],
   "source": [
    "df['date'].mode()"
   ]
  },
  {
   "cell_type": "code",
   "execution_count": 41,
   "id": "db9f7a39-3e7e-48ad-95c6-d9f2759afd6c",
   "metadata": {},
   "outputs": [],
   "source": [
    "df['date'] = df['date'].fillna('11/22/2023')"
   ]
  },
  {
   "cell_type": "markdown",
   "id": "4c5bb15b-e63f-413d-9ed2-a12cf98e7577",
   "metadata": {},
   "source": [
    "## Dealing with null values in the month column"
   ]
  },
  {
   "cell_type": "code",
   "execution_count": 42,
   "id": "ec88e148-bad5-4f82-b4c3-3b5df4855baa",
   "metadata": {},
   "outputs": [
    {
     "data": {
      "text/plain": [
       "0    April\n",
       "Name: month, dtype: object"
      ]
     },
     "execution_count": 42,
     "metadata": {},
     "output_type": "execute_result"
    }
   ],
   "source": [
    "df['month'].mode()"
   ]
  },
  {
   "cell_type": "code",
   "execution_count": 43,
   "id": "4518d245-8a15-40fd-a9b5-3027d81d0227",
   "metadata": {},
   "outputs": [],
   "source": [
    "df['month'] = df['month'].fillna('April')"
   ]
  },
  {
   "cell_type": "markdown",
   "id": "fc8b5ae3-a766-4c00-83d8-59b3195270d3",
   "metadata": {},
   "source": [
    "## Dealing with null values in the time column"
   ]
  },
  {
   "cell_type": "code",
   "execution_count": 44,
   "id": "97781b4a-c8b0-46ce-a1bf-22ee9d988e0d",
   "metadata": {},
   "outputs": [
    {
     "data": {
      "text/plain": [
       "0    15:54:27\n",
       "1     2:16:01\n",
       "2     2:55:36\n",
       "3     7:45:07\n",
       "Name: time, dtype: object"
      ]
     },
     "execution_count": 44,
     "metadata": {},
     "output_type": "execute_result"
    }
   ],
   "source": [
    "df['time'].mode()"
   ]
  },
  {
   "cell_type": "code",
   "execution_count": 45,
   "id": "51c4163f-3f3a-4344-b630-4f1c3b3f8000",
   "metadata": {},
   "outputs": [],
   "source": [
    "df['time'] = df['time'].fillna('15:54:27')"
   ]
  },
  {
   "cell_type": "markdown",
   "id": "6c73b845-e114-4d3d-afd1-4c9a80b1dc73",
   "metadata": {},
   "source": [
    "## Dealing with null values in the total purchases column"
   ]
  },
  {
   "cell_type": "code",
   "execution_count": 46,
   "id": "b69c32af-3a11-40f2-bd83-4cac0f6aabac",
   "metadata": {},
   "outputs": [],
   "source": [
    "total_purchases_mean = df['total_purchases'].mean().round(0)"
   ]
  },
  {
   "cell_type": "code",
   "execution_count": 47,
   "id": "bf4bdc05-2ada-425f-b308-fe78da03a455",
   "metadata": {},
   "outputs": [],
   "source": [
    "df['total_purchases'] = df['total_purchases'].fillna(total_purchases_mean)"
   ]
  },
  {
   "cell_type": "markdown",
   "id": "abb4d993-a33b-4211-aaa6-af18ec1e3a00",
   "metadata": {},
   "source": [
    "## Dealing with null values in the amount and total amount column"
   ]
  },
  {
   "cell_type": "code",
   "execution_count": 48,
   "id": "f9e0aa6d-3325-42ab-ab6d-261a53af96f6",
   "metadata": {},
   "outputs": [],
   "source": [
    "average_amount =  df['amount'].mean().round(2)\n",
    "df['amount'] = df['amount'].fillna(average_amount)"
   ]
  },
  {
   "cell_type": "code",
   "execution_count": 49,
   "id": "9d8f9099-a7f9-4238-b4dd-7cad0d318698",
   "metadata": {},
   "outputs": [],
   "source": [
    "average_total_amount =  df['total_amount'].mean().round(2)\n",
    "df['total_amount'] = df['total_amount'].fillna(average_total_amount)"
   ]
  },
  {
   "cell_type": "markdown",
   "id": "8ae1b6de-8dfc-43ea-8f76-b57a9c892c9c",
   "metadata": {},
   "source": [
    "## Dealing with null values in the product category"
   ]
  },
  {
   "cell_type": "code",
   "execution_count": 50,
   "id": "c9158fd1-c72d-402f-aedd-6fc8cfaf1ef5",
   "metadata": {},
   "outputs": [
    {
     "data": {
      "text/plain": [
       "0    Electronics\n",
       "Name: product_category, dtype: object"
      ]
     },
     "execution_count": 50,
     "metadata": {},
     "output_type": "execute_result"
    }
   ],
   "source": [
    "df['product_category'].mode()"
   ]
  },
  {
   "cell_type": "code",
   "execution_count": 51,
   "id": "865a36e7-c420-4a84-8f39-68cfa7f9bf22",
   "metadata": {},
   "outputs": [],
   "source": [
    "df['product_category'] = df['product_category'].fillna('Electronics')"
   ]
  },
  {
   "cell_type": "markdown",
   "id": "8d6ef6c9-3b20-43ed-96f5-23fd1b92a953",
   "metadata": {},
   "source": [
    "## Dealing with null values in the product brand"
   ]
  },
  {
   "cell_type": "code",
   "execution_count": 52,
   "id": "ddf0d0e0-7d47-465b-871a-d725543dfafa",
   "metadata": {},
   "outputs": [
    {
     "data": {
      "text/plain": [
       "0    Pepsi\n",
       "Name: product_brand, dtype: object"
      ]
     },
     "execution_count": 52,
     "metadata": {},
     "output_type": "execute_result"
    }
   ],
   "source": [
    "df['product_brand'].mode()"
   ]
  },
  {
   "cell_type": "code",
   "execution_count": 53,
   "id": "521e543f-cc33-4bf0-a08e-1d05b76e23ae",
   "metadata": {},
   "outputs": [],
   "source": [
    "df['product_brand'] = df['product_brand'].fillna('Pepsi')"
   ]
  },
  {
   "cell_type": "markdown",
   "id": "68c43eb2-9a9c-4f4b-95f1-1a0e5f7289de",
   "metadata": {},
   "source": [
    "## Dealing with null values in the feedback column"
   ]
  },
  {
   "cell_type": "code",
   "execution_count": 54,
   "id": "b1e56ade-4038-40c9-8300-a1553fba04f9",
   "metadata": {},
   "outputs": [
    {
     "data": {
      "text/plain": [
       "0    Excellent\n",
       "Name: feedback, dtype: object"
      ]
     },
     "execution_count": 54,
     "metadata": {},
     "output_type": "execute_result"
    }
   ],
   "source": [
    "df['feedback'].mode()"
   ]
  },
  {
   "cell_type": "code",
   "execution_count": 55,
   "id": "99b5b3fe-5af1-47f5-a19a-825b133f71a3",
   "metadata": {},
   "outputs": [],
   "source": [
    "df['feedback'] = df['feedback'].fillna('Excellent')"
   ]
  },
  {
   "cell_type": "markdown",
   "id": "fce9beb4-200a-4810-82b1-5e7d86b047eb",
   "metadata": {},
   "source": [
    "## Dealing with null values in the shipping method column"
   ]
  },
  {
   "cell_type": "code",
   "execution_count": 56,
   "id": "0673775e-e695-4d38-bcdf-3c9746257a42",
   "metadata": {},
   "outputs": [
    {
     "data": {
      "text/plain": [
       "0    Same-Day\n",
       "Name: shipping_method, dtype: object"
      ]
     },
     "execution_count": 56,
     "metadata": {},
     "output_type": "execute_result"
    }
   ],
   "source": [
    "df['shipping_method'].mode()"
   ]
  },
  {
   "cell_type": "code",
   "execution_count": 57,
   "id": "cb3efae2-6a1a-49cf-849c-3c9535f646b7",
   "metadata": {},
   "outputs": [],
   "source": [
    "df['shipping_method'] = df['shipping_method'].fillna('Same-Day')"
   ]
  },
  {
   "cell_type": "markdown",
   "id": "c5d2489d-d114-4b46-829f-091924171cdc",
   "metadata": {},
   "source": [
    "## Dealing with null values in the payment method column"
   ]
  },
  {
   "cell_type": "code",
   "execution_count": 58,
   "id": "2e95776c-55d2-4b89-96cc-1aa9ede03de0",
   "metadata": {},
   "outputs": [
    {
     "data": {
      "text/plain": [
       "0    Credit Card\n",
       "Name: payment_method, dtype: object"
      ]
     },
     "execution_count": 58,
     "metadata": {},
     "output_type": "execute_result"
    }
   ],
   "source": [
    "df['payment_method'].mode()"
   ]
  },
  {
   "cell_type": "code",
   "execution_count": 59,
   "id": "7db644f2-09d6-4b78-8a99-2f363fad2fe6",
   "metadata": {},
   "outputs": [],
   "source": [
    "df['payment_method'] = df['payment_method'].fillna('Credit Card')"
   ]
  },
  {
   "cell_type": "markdown",
   "id": "56da7da3-de98-4eea-95d7-332d524d4de8",
   "metadata": {},
   "source": [
    "## Dealing with null values in the order status"
   ]
  },
  {
   "cell_type": "code",
   "execution_count": 60,
   "id": "d667b86c-990e-4e10-91ef-43da4a8131ef",
   "metadata": {},
   "outputs": [
    {
     "data": {
      "text/plain": [
       "0    Delivered\n",
       "Name: order_status, dtype: object"
      ]
     },
     "execution_count": 60,
     "metadata": {},
     "output_type": "execute_result"
    }
   ],
   "source": [
    "df['order_status'].mode()"
   ]
  },
  {
   "cell_type": "code",
   "execution_count": 61,
   "id": "e9bada01-73a0-449e-9609-ee46f441cd2f",
   "metadata": {},
   "outputs": [],
   "source": [
    "df['order_status'] = df['order_status'].fillna('Delivered')"
   ]
  },
  {
   "cell_type": "markdown",
   "id": "aa8d11c6-3638-4b80-81fb-a76eb761ed41",
   "metadata": {},
   "source": [
    "## Dealing with null values in the ratings column"
   ]
  },
  {
   "cell_type": "code",
   "execution_count": 62,
   "id": "5fe1ded0-3d42-40b5-8b19-4b11074d1109",
   "metadata": {},
   "outputs": [
    {
     "data": {
      "text/plain": [
       "3.0"
      ]
     },
     "execution_count": 62,
     "metadata": {},
     "output_type": "execute_result"
    }
   ],
   "source": [
    "mean_ratings = df['ratings'].mean().round(0)\n",
    "mean_ratings"
   ]
  },
  {
   "cell_type": "code",
   "execution_count": 63,
   "id": "8f940995-4a24-4d9a-b74f-d8fd6fb0abde",
   "metadata": {},
   "outputs": [],
   "source": [
    "df['ratings'] = df['ratings'].fillna(mean_ratings)"
   ]
  },
  {
   "cell_type": "markdown",
   "id": "8ed6cfc4-b041-4580-83a4-4a5edbe669c7",
   "metadata": {},
   "source": [
    "## Converting datatypes of numerical categories to integer"
   ]
  },
  {
   "cell_type": "code",
   "execution_count": 64,
   "id": "d2ca770c-6be3-4f38-9c2d-2e78ed8e13f1",
   "metadata": {},
   "outputs": [
    {
     "data": {
      "text/plain": [
       "transaction_id        Int64\n",
       "customer_id           Int64\n",
       "city                 object\n",
       "state                object\n",
       "country              object\n",
       "age                 float64\n",
       "gender               object\n",
       "income               object\n",
       "customer_segment     object\n",
       "date                 object\n",
       "year                  Int64\n",
       "month                object\n",
       "time                 object\n",
       "total_purchases     float64\n",
       "amount              float64\n",
       "total_amount        float64\n",
       "product_category     object\n",
       "product_brand        object\n",
       "product_type         object\n",
       "feedback             object\n",
       "shipping_method      object\n",
       "payment_method       object\n",
       "order_status         object\n",
       "ratings             float64\n",
       "products             object\n",
       "dtype: object"
      ]
     },
     "execution_count": 64,
     "metadata": {},
     "output_type": "execute_result"
    }
   ],
   "source": [
    "df.dtypes"
   ]
  },
  {
   "cell_type": "code",
   "execution_count": 65,
   "id": "f2d7c646-b72e-466c-b133-c904ab275371",
   "metadata": {},
   "outputs": [],
   "source": [
    "df['age'] = df['age'].round().astype(int)\n",
    "df['total_purchases'] = df['total_purchases'].round(2).astype(int)\n",
    "df['amount'] =  df['amount'].round(2)\n",
    "df['total_amount'] = df['total_amount'].round(2)\n",
    "df['ratings'] = df['ratings'].round().astype(int)"
   ]
  },
  {
   "cell_type": "markdown",
   "id": "697cbabc-f25d-4f88-b3c5-e38eab301335",
   "metadata": {},
   "source": [
    "## Convert time and date columns to datetime format"
   ]
  },
  {
   "cell_type": "code",
   "execution_count": 66,
   "id": "0ce69c6d-6914-4fc2-b63f-b16f3a7d453f",
   "metadata": {},
   "outputs": [
    {
     "name": "stderr",
     "output_type": "stream",
     "text": [
      "/tmp/ipykernel_20937/4067300177.py:4: UserWarning: Could not infer format, so each element will be parsed individually, falling back to `dateutil`. To ensure parsing is consistent and as-expected, please specify a format.\n",
      "  df['time'] = pd.to_datetime(df['time']).dt.strftime('%H:%M:%S')\n"
     ]
    }
   ],
   "source": [
    "#converting date , year ,time into datetime datatype formate\n",
    "\n",
    "df['date'] = pd.to_datetime(df['date']).dt.strftime('%Y-%m-%d')\n",
    "df['time'] = pd.to_datetime(df['time']).dt.strftime('%H:%M:%S')"
   ]
  },
  {
   "cell_type": "markdown",
   "id": "0d457a27-bbb0-4227-a043-8cb94225fc6f",
   "metadata": {},
   "source": [
    "## Rename the city column that have inaccurate values"
   ]
  },
  {
   "cell_type": "code",
   "execution_count": 67,
   "id": "4ce5e61a-8318-4cbd-8b92-ca5878618ef6",
   "metadata": {},
   "outputs": [],
   "source": [
    "# Replace incorrect city names\n",
    "\n",
    "df['city'] = df['city'].str.replace(\"MÃ¼nster\", \"Münster\")\n",
    "df['city'] = df['city'].str.replace(\"St. John's\", \"St. Johns\")\n",
    "df['city'] = df['city'].str.replace(\"DÃ¼sseldorf\", \"Düsseldorf\")"
   ]
  },
  {
   "cell_type": "markdown",
   "id": "86259e22-50a3-4f4b-985e-4e776210648c",
   "metadata": {},
   "source": [
    "## Checking for negative integers"
   ]
  },
  {
   "cell_type": "code",
   "execution_count": 68,
   "id": "79ba2182-7f9b-434b-a087-895dec03bb68",
   "metadata": {},
   "outputs": [
    {
     "data": {
      "text/html": [
       "<div>\n",
       "<style scoped>\n",
       "    .dataframe tbody tr th:only-of-type {\n",
       "        vertical-align: middle;\n",
       "    }\n",
       "\n",
       "    .dataframe tbody tr th {\n",
       "        vertical-align: top;\n",
       "    }\n",
       "\n",
       "    .dataframe thead th {\n",
       "        text-align: right;\n",
       "    }\n",
       "</style>\n",
       "<table border=\"1\" class=\"dataframe\">\n",
       "  <thead>\n",
       "    <tr style=\"text-align: right;\">\n",
       "      <th></th>\n",
       "      <th>transaction_id</th>\n",
       "      <th>customer_id</th>\n",
       "      <th>city</th>\n",
       "      <th>state</th>\n",
       "      <th>country</th>\n",
       "      <th>age</th>\n",
       "      <th>gender</th>\n",
       "      <th>income</th>\n",
       "      <th>customer_segment</th>\n",
       "      <th>date</th>\n",
       "      <th>year</th>\n",
       "      <th>month</th>\n",
       "      <th>time</th>\n",
       "      <th>total_purchases</th>\n",
       "      <th>amount</th>\n",
       "      <th>total_amount</th>\n",
       "      <th>product_category</th>\n",
       "      <th>product_brand</th>\n",
       "      <th>product_type</th>\n",
       "      <th>feedback</th>\n",
       "      <th>shipping_method</th>\n",
       "      <th>payment_method</th>\n",
       "      <th>order_status</th>\n",
       "      <th>ratings</th>\n",
       "      <th>products</th>\n",
       "    </tr>\n",
       "  </thead>\n",
       "  <tbody>\n",
       "  </tbody>\n",
       "</table>\n",
       "</div>"
      ],
      "text/plain": [
       "Empty DataFrame\n",
       "Columns: [transaction_id, customer_id, city, state, country, age, gender, income, customer_segment, date, year, month, time, total_purchases, amount, total_amount, product_category, product_brand, product_type, feedback, shipping_method, payment_method, order_status, ratings, products]\n",
       "Index: []"
      ]
     },
     "execution_count": 68,
     "metadata": {},
     "output_type": "execute_result"
    }
   ],
   "source": [
    "\n",
    "negative_values = df[(df['total_purchases'] < 0) | \n",
    "                     (df['amount'] < 0) | \n",
    "                     (df['total_amount'] < 0)]\n",
    "\n",
    "negative_values"
   ]
  },
  {
   "cell_type": "markdown",
   "id": "5fd6ea65-ff7a-41eb-8a83-4117851617a8",
   "metadata": {},
   "source": [
    "## Checking and dealing with duplicates"
   ]
  },
  {
   "cell_type": "code",
   "execution_count": 69,
   "id": "50f4fc42-0385-43aa-b8fb-0b1b9ad992d4",
   "metadata": {},
   "outputs": [
    {
     "data": {
      "text/plain": [
       "4"
      ]
     },
     "execution_count": 69,
     "metadata": {},
     "output_type": "execute_result"
    }
   ],
   "source": [
    "df.duplicated().sum()"
   ]
  },
  {
   "cell_type": "code",
   "execution_count": 70,
   "id": "d258eeb9-0905-4f8e-898a-bd7bb334eebd",
   "metadata": {},
   "outputs": [
    {
     "data": {
      "text/html": [
       "<div>\n",
       "<style scoped>\n",
       "    .dataframe tbody tr th:only-of-type {\n",
       "        vertical-align: middle;\n",
       "    }\n",
       "\n",
       "    .dataframe tbody tr th {\n",
       "        vertical-align: top;\n",
       "    }\n",
       "\n",
       "    .dataframe thead th {\n",
       "        text-align: right;\n",
       "    }\n",
       "</style>\n",
       "<table border=\"1\" class=\"dataframe\">\n",
       "  <thead>\n",
       "    <tr style=\"text-align: right;\">\n",
       "      <th></th>\n",
       "      <th>transaction_id</th>\n",
       "      <th>customer_id</th>\n",
       "      <th>city</th>\n",
       "      <th>state</th>\n",
       "      <th>country</th>\n",
       "      <th>age</th>\n",
       "      <th>gender</th>\n",
       "      <th>income</th>\n",
       "      <th>customer_segment</th>\n",
       "      <th>date</th>\n",
       "      <th>year</th>\n",
       "      <th>month</th>\n",
       "      <th>time</th>\n",
       "      <th>total_purchases</th>\n",
       "      <th>amount</th>\n",
       "      <th>total_amount</th>\n",
       "      <th>product_category</th>\n",
       "      <th>product_brand</th>\n",
       "      <th>product_type</th>\n",
       "      <th>feedback</th>\n",
       "      <th>shipping_method</th>\n",
       "      <th>payment_method</th>\n",
       "      <th>order_status</th>\n",
       "      <th>ratings</th>\n",
       "      <th>products</th>\n",
       "    </tr>\n",
       "  </thead>\n",
       "  <tbody>\n",
       "    <tr>\n",
       "      <th>299759</th>\n",
       "      <td>4476510</td>\n",
       "      <td>20103</td>\n",
       "      <td>Kitchener</td>\n",
       "      <td>Ontario</td>\n",
       "      <td>Canada</td>\n",
       "      <td>54</td>\n",
       "      <td>Female</td>\n",
       "      <td>Low</td>\n",
       "      <td>Regular</td>\n",
       "      <td>2023-12-10</td>\n",
       "      <td>2023</td>\n",
       "      <td>December</td>\n",
       "      <td>01:09:09</td>\n",
       "      <td>7</td>\n",
       "      <td>134.37</td>\n",
       "      <td>940.62</td>\n",
       "      <td>Clothing</td>\n",
       "      <td>Adidas</td>\n",
       "      <td>T-shirt</td>\n",
       "      <td>Bad</td>\n",
       "      <td>Express</td>\n",
       "      <td>Credit Card</td>\n",
       "      <td>Processing</td>\n",
       "      <td>1</td>\n",
       "      <td>Off-the-shoulder tee</td>\n",
       "    </tr>\n",
       "    <tr>\n",
       "      <th>301094</th>\n",
       "      <td>5340129</td>\n",
       "      <td>29920</td>\n",
       "      <td>Wollongong</td>\n",
       "      <td>New South Wales</td>\n",
       "      <td>Australia</td>\n",
       "      <td>54</td>\n",
       "      <td>Male</td>\n",
       "      <td>Low</td>\n",
       "      <td>New</td>\n",
       "      <td>2023-12-19</td>\n",
       "      <td>2023</td>\n",
       "      <td>December</td>\n",
       "      <td>11:33:48</td>\n",
       "      <td>6</td>\n",
       "      <td>255.16</td>\n",
       "      <td>2201.57</td>\n",
       "      <td>Grocery</td>\n",
       "      <td>Pepsi</td>\n",
       "      <td>Soft Drink</td>\n",
       "      <td>Excellent</td>\n",
       "      <td>Express</td>\n",
       "      <td>Cash</td>\n",
       "      <td>Delivered</td>\n",
       "      <td>4</td>\n",
       "      <td>Fruit punch</td>\n",
       "    </tr>\n",
       "    <tr>\n",
       "      <th>301362</th>\n",
       "      <td>4942326</td>\n",
       "      <td>25416</td>\n",
       "      <td>Leicester</td>\n",
       "      <td>England</td>\n",
       "      <td>UK</td>\n",
       "      <td>63</td>\n",
       "      <td>Male</td>\n",
       "      <td>Low</td>\n",
       "      <td>Regular</td>\n",
       "      <td>2023-05-05</td>\n",
       "      <td>2023</td>\n",
       "      <td>May</td>\n",
       "      <td>04:17:21</td>\n",
       "      <td>8</td>\n",
       "      <td>191.91</td>\n",
       "      <td>1535.26</td>\n",
       "      <td>Clothing</td>\n",
       "      <td>Adidas</td>\n",
       "      <td>Jacket</td>\n",
       "      <td>Average</td>\n",
       "      <td>Same-Day</td>\n",
       "      <td>Cash</td>\n",
       "      <td>Pending</td>\n",
       "      <td>2</td>\n",
       "      <td>Varsity jacket</td>\n",
       "    </tr>\n",
       "    <tr>\n",
       "      <th>301486</th>\n",
       "      <td>3200766</td>\n",
       "      <td>49598</td>\n",
       "      <td>Bremen</td>\n",
       "      <td>Berlin</td>\n",
       "      <td>Germany</td>\n",
       "      <td>59</td>\n",
       "      <td>Male</td>\n",
       "      <td>Low</td>\n",
       "      <td>New</td>\n",
       "      <td>2023-11-23</td>\n",
       "      <td>2023</td>\n",
       "      <td>November</td>\n",
       "      <td>15:35:49</td>\n",
       "      <td>9</td>\n",
       "      <td>272.33</td>\n",
       "      <td>2450.95</td>\n",
       "      <td>Grocery</td>\n",
       "      <td>Pepsi</td>\n",
       "      <td>Soft Drink</td>\n",
       "      <td>Bad</td>\n",
       "      <td>Standard</td>\n",
       "      <td>Cash</td>\n",
       "      <td>Pending</td>\n",
       "      <td>1</td>\n",
       "      <td>Iced tea</td>\n",
       "    </tr>\n",
       "  </tbody>\n",
       "</table>\n",
       "</div>"
      ],
      "text/plain": [
       "        transaction_id  customer_id        city            state    country  \\\n",
       "299759         4476510        20103   Kitchener          Ontario     Canada   \n",
       "301094         5340129        29920  Wollongong  New South Wales  Australia   \n",
       "301362         4942326        25416   Leicester          England         UK   \n",
       "301486         3200766        49598      Bremen           Berlin    Germany   \n",
       "\n",
       "        age  gender income customer_segment        date  year     month  \\\n",
       "299759   54  Female    Low          Regular  2023-12-10  2023  December   \n",
       "301094   54    Male    Low              New  2023-12-19  2023  December   \n",
       "301362   63    Male    Low          Regular  2023-05-05  2023       May   \n",
       "301486   59    Male    Low              New  2023-11-23  2023  November   \n",
       "\n",
       "            time  total_purchases  amount  total_amount product_category  \\\n",
       "299759  01:09:09                7  134.37        940.62         Clothing   \n",
       "301094  11:33:48                6  255.16       2201.57          Grocery   \n",
       "301362  04:17:21                8  191.91       1535.26         Clothing   \n",
       "301486  15:35:49                9  272.33       2450.95          Grocery   \n",
       "\n",
       "       product_brand product_type   feedback shipping_method payment_method  \\\n",
       "299759        Adidas      T-shirt        Bad         Express    Credit Card   \n",
       "301094         Pepsi   Soft Drink  Excellent         Express           Cash   \n",
       "301362        Adidas       Jacket    Average        Same-Day           Cash   \n",
       "301486         Pepsi   Soft Drink        Bad        Standard           Cash   \n",
       "\n",
       "       order_status  ratings              products  \n",
       "299759   Processing        1  Off-the-shoulder tee  \n",
       "301094    Delivered        4           Fruit punch  \n",
       "301362      Pending        2        Varsity jacket  \n",
       "301486      Pending        1              Iced tea  "
      ]
     },
     "execution_count": 70,
     "metadata": {},
     "output_type": "execute_result"
    }
   ],
   "source": [
    "df[df.duplicated()].head()"
   ]
  },
  {
   "cell_type": "code",
   "execution_count": 71,
   "id": "c1e25076-a6ef-46b4-a721-3b86edf669b0",
   "metadata": {},
   "outputs": [
    {
     "data": {
      "text/plain": [
       "transaction_id      0\n",
       "customer_id         0\n",
       "city                0\n",
       "state               0\n",
       "country             0\n",
       "age                 0\n",
       "gender              0\n",
       "income              0\n",
       "customer_segment    0\n",
       "date                0\n",
       "year                0\n",
       "month               0\n",
       "time                0\n",
       "total_purchases     0\n",
       "amount              0\n",
       "total_amount        0\n",
       "product_category    0\n",
       "product_brand       0\n",
       "product_type        0\n",
       "feedback            0\n",
       "shipping_method     0\n",
       "payment_method      0\n",
       "order_status        0\n",
       "ratings             0\n",
       "products            0\n",
       "dtype: int64"
      ]
     },
     "execution_count": 71,
     "metadata": {},
     "output_type": "execute_result"
    }
   ],
   "source": [
    "df.isnull().sum()"
   ]
  },
  {
   "cell_type": "code",
   "execution_count": 72,
   "id": "38f74ac5-510b-4232-8bda-fee7c3d643b9",
   "metadata": {},
   "outputs": [],
   "source": [
    "# Save the DataFrame as a CSV file\n",
    "#df.to_csv('cleaned_retail_data.csv', index=False)"
   ]
  },
  {
   "cell_type": "markdown",
   "id": "8e145d5f-5303-4cc0-9cca-00f0bf811833",
   "metadata": {},
   "source": [
    "# Data Exploration"
   ]
  },
  {
   "cell_type": "markdown",
   "id": "af09079b-4b27-4169-a005-c986f163dcc1",
   "metadata": {},
   "source": [
    "## Customer Demographics:\n",
    "\n",
    "1. What are the primary age groups, genders, and locations of our customers?\n",
    "\n",
    "2. What is the average income level of our customer base?\n",
    "\n",
    "3. Are certain demographic segments more likely to make high-value purchases?"
   ]
  },
  {
   "cell_type": "markdown",
   "id": "1eee77f0-d248-4b59-afc4-03a65e4e8a5c",
   "metadata": {},
   "source": [
    "## 1. Age and gender distribution"
   ]
  },
  {
   "cell_type": "code",
   "execution_count": 73,
   "id": "e7054291-1d13-46e2-a47d-81b5dfcadacb",
   "metadata": {},
   "outputs": [
    {
     "data": {
      "image/png": "[encoded data removed]",
      "text/plain": [
       "<Figure size 1200x600 with 1 Axes>"
      ]
     },
     "metadata": {},
     "output_type": "display_data"
    }
   ],
   "source": [
    "# Create a box plot for age distribution by customer segment\n",
    "plt.figure(figsize=(12, 6))\n",
    "sns.boxplot(x='customer_segment', y='age', data=df, hue='customer_segment', legend=False)\n",
    "plt.title('Age Distribution by Customer Segment')\n",
    "plt.xlabel('Customer Segment')\n",
    "plt.ylabel('Age')\n",
    "plt.show()"
   ]
  },
  {
   "cell_type": "markdown",
   "id": "9fee25ec-2141-49cc-ae53-6fdb1650ac4a",
   "metadata": {},
   "source": [
    "The box plot shows that for the Regular customers lie between the mid 20s to mid 40s. The median "
   ]
  },
  {
   "cell_type": "markdown",
   "id": "2836a828-7982-488e-a08b-d8ee966a5cdf",
   "metadata": {},
   "source": [
    "### Customer gender distribution "
   ]
  },
  {
   "cell_type": "code",
   "execution_count": 74,
   "id": "0d3537d6-2709-4c97-a291-bcd403663f96",
   "metadata": {},
   "outputs": [
    {
     "data": {
      "image/png": "[encoded data removed]",
      "text/plain": [
       "<Figure size 800x600 with 1 Axes>"
      ]
     },
     "metadata": {},
     "output_type": "display_data"
    }
   ],
   "source": [
    "\n",
    "# Get the number of occurrences for each gender\n",
    "gender_counts = df['gender'].value_counts()\n",
    "\n",
    "# Create a pie chart for gender distribution\n",
    "plt.figure(figsize=(8, 6))\n",
    "plt.pie(gender_counts, labels=gender_counts.index, autopct='%1.1f%%')\n",
    "plt.title('Gender Distribution')\n",
    "plt.legend(labels=gender_counts.index, title=\"Gender\", loc=\"center left\", bbox_to_anchor=(1, 0.5))\n",
    "plt.show()"
   ]
  },
  {
   "cell_type": "markdown",
   "id": "c7703553-8770-4e06-bf30-270be0fff9e8",
   "metadata": {},
   "source": [
    "### Customer location distribution"
   ]
  },
  {
   "cell_type": "code",
   "execution_count": 75,
   "id": "3d3ad816-7859-42ab-b3ed-e85c7285984a",
   "metadata": {},
   "outputs": [
    {
     "data": {
      "image/png": "[encoded data removed]",
      "text/plain": [
       "<Figure size 1400x800 with 1 Axes>"
      ]
     },
     "metadata": {},
     "output_type": "display_data"
    }
   ],
   "source": [
    "plt.figure(figsize=(14, 8))\n",
    "\n",
    "# Create a count plot showing the distribution of customers by location in each customer segment\n",
    "sns.countplot(x='country', hue='customer_segment', data=df)\n",
    "\n",
    "# Add title and labels\n",
    "plt.title('Location Distribution of Customers in Each Segment')\n",
    "plt.xlabel('Country')  # Replace 'City' with 'State' or 'Country' if needed\n",
    "plt.ylabel('Number of Customers')\n",
    "\n",
    "# Rotate x-axis labels if there are many locations\n",
    "plt.xticks(rotation=45)\n",
    "plt.legend(title='Customer Segment', bbox_to_anchor=(1.05, 1), loc='upper left')\n",
    "plt.show()"
   ]
  },
  {
   "cell_type": "markdown",
   "id": "6d70e798-05b0-42ec-9b99-63797f147c78",
   "metadata": {},
   "source": [
    "## 2. Income Level of the Customer Base"
   ]
  },
  {
   "cell_type": "code",
   "execution_count": 80,
   "id": "a513631a-9128-44b1-82b8-72c6d50c4a5a",
   "metadata": {},
   "outputs": [],
   "source": [
    "# Group by customer segment and income level to get the count of each combination\n",
    "income_segment_count = df.groupby(['customer_segment', 'income']).size().reset_index(name='count')"
   ]
  },
  {
   "cell_type": "code",
   "execution_count": 81,
   "id": "40cfaeae-8d8b-4416-84cd-e44750a4d10a",
   "metadata": {},
   "outputs": [
    {
     "data": {
      "image/png": "[encoded data removed]",
      "text/plain": [
       "<Figure size 1400x800 with 1 Axes>"
      ]
     },
     "metadata": {},
     "output_type": "display_data"
    }
   ],
   "source": [
    "plt.figure(figsize=(14, 8))\n",
    "sns.barplot(x='customer_segment', y='count', hue='income', data=income_segment_count, palette='Set2')\n",
    "\n",
    "# Add title and labels\n",
    "plt.title('Income Level of Customer Types by Segment')\n",
    "plt.xlabel('Customer Segment')\n",
    "plt.ylabel('Number of Customers')\n",
    "plt.xticks(rotation=45)\n",
    "plt.legend(title='Income Level')\n",
    "plt.show()"
   ]
  },
  {
   "cell_type": "code",
   "execution_count": 76,
   "id": "703553cb-1a75-4927-ad8d-18cd1a92e132",
   "metadata": {},
   "outputs": [
    {
     "data": {
      "image/png": "[encoded data removed]",
      "text/plain": [
       "<Figure size 1000x600 with 1 Axes>"
      ]
     },
     "metadata": {},
     "output_type": "display_data"
    }
   ],
   "source": [
    "# a histogram to show the distribution of customer income\n",
    "plt.figure(figsize=(10, 6))\n",
    "sns.histplot(df['income'], bins=20, kde=True, color='blue')\n",
    "plt.title('Income Distribution of Customers')\n",
    "plt.xlabel('Income')\n",
    "plt.ylabel('Frequency')\n",
    "plt.show()"
   ]
  },
  {
   "cell_type": "markdown",
   "id": "395bd7f5-b128-4ff4-9418-5d75e55bf019",
   "metadata": {},
   "source": [
    "# 3.Determing if there is high level purchases"
   ]
  },
  {
   "cell_type": "code",
   "execution_count": null,
   "id": "31e7e3c2-032f-4073-a618-446320c03fb1",
   "metadata": {},
   "outputs": [],
   "source": []
  }
 ],
 "metadata": {
  "kernelspec": {
   "display_name": "Python 3 (ipykernel)",
   "language": "python",
   "name": "python3"
  },
  "language_info": {
   "codemirror_mode": {
    "name": "ipython",
    "version": 3
   },
   "file_extension": ".py",
   "mimetype": "text/x-python",
   "name": "python",
   "nbconvert_exporter": "python",
   "pygments_lexer": "ipython3",
   "version": "3.12.3"
  }
 },
 "nbformat": 4,
 "nbformat_minor": 5
}
